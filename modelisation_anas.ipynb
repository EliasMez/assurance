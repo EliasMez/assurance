{
 "cells": [
  {
   "cell_type": "code",
   "execution_count": 277,
   "metadata": {},
   "outputs": [],
   "source": [
    "import pandas as pd\n",
    "import numpy as np\n",
    "import seaborn as sns\n",
    "import matplotlib.pyplot as plt\n",
    "from scipy import stats\n",
    "from sklearn.model_selection import train_test_split, GridSearchCV,RandomizedSearchCV, StratifiedKFold,cross_validate\n",
    "from sklearn.dummy import DummyRegressor\n",
    "from sklearn.linear_model import LinearRegression, Lasso, Ridge, ElasticNet, SGDClassifier\n",
    "from sklearn.pipeline import make_pipeline\n",
    "from sklearn.preprocessing import OneHotEncoder, StandardScaler, OrdinalEncoder, PolynomialFeatures, RobustScaler\n",
    "from sklearn.compose import make_column_transformer\n",
    "from sklearn.metrics import mean_squared_error\n",
    "from statsmodels.formula.api import ols\n",
    "from statsmodels.api import OLS\n",
    "import statsmodels.api as sm\n",
    "from statsmodels.stats.outliers_influence import variance_inflation_factor as vif"
   ]
  },
  {
   "attachments": {},
   "cell_type": "markdown",
   "metadata": {},
   "source": [
    "### Importation du CSV et création du dataframe"
   ]
  },
  {
   "cell_type": "code",
   "execution_count": 244,
   "metadata": {},
   "outputs": [],
   "source": [
    "df = pd.read_csv(\"assurance.csv\")\n",
    "df=df.drop_duplicates()\n",
    "\n",
    "# df.loc[df['bmi'] < 18.5 , 'grade'] = 'underweight'\n",
    "# df.loc[df['bmi'].between(18.5, 25, 'left'), 'grade'] = 'good'\n",
    "# df.loc[df['bmi'].between(25, 30, 'both'), 'grade'] = 'overweight'\n",
    "# df.loc[df['bmi'] > 30, 'grade'] = 'obesity'\n",
    "# df.drop('bmi',axis=1, inplace=True)\n",
    "\n",
    "df.loc[df['bmi'] < 18.5 , 'grade'] = 'underweight'\n",
    "df.loc[df['bmi'].between(18.5, 25, 'left'), 'grade'] = 'good'\n",
    "df.loc[df['bmi'].between(25, 30, 'both'), 'grade'] = 'overweight'\n",
    "df.loc[df['bmi'] > 30, 'grade'] = 'obesity'\n",
    "df.drop('bmi',axis=1, inplace=True)\n",
    "\n",
    "# df[['grade','indicateur']].head(50)\n",
    "\n"
   ]
  },
  {
   "attachments": {},
   "cell_type": "markdown",
   "metadata": {},
   "source": [
    "### Création de la matrice X (variables explicatives) et de la série y (variable cible)"
   ]
  },
  {
   "cell_type": "code",
   "execution_count": 245,
   "metadata": {},
   "outputs": [
    {
     "data": {
      "text/plain": [
       "-0.0003055935779685548"
      ]
     },
     "execution_count": 245,
     "metadata": {},
     "output_type": "execute_result"
    }
   ],
   "source": [
    "X = df.drop(['charges'], axis=1)\n",
    "y = df['charges']\n",
    "X_train, X_test, y_train, y_test = train_test_split(X, y,shuffle=True, train_size=0.85, random_state=42 ,stratify=X[['smoker','grade']])\n",
    "dummy = DummyRegressor()\n",
    "dummy.fit(X_train, y_train)\n",
    "dummy.score(X_test, y_test)\n",
    "\n"
   ]
  },
  {
   "attachments": {},
   "cell_type": "markdown",
   "metadata": {},
   "source": [
    "Suite à l'analyse de données nous avons décidé de supprimer la série \"région\" étant donné qu'elle n'est pas corrélée à la variable cible "
   ]
  },
  {
   "attachments": {},
   "cell_type": "markdown",
   "metadata": {},
   "source": [
    "### Création d'un pipeline afin d'encoder notre model ElasticNet"
   ]
  },
  {
   "cell_type": "code",
   "execution_count": 246,
   "metadata": {},
   "outputs": [],
   "source": [
    "transformer = make_column_transformer(\n",
    "    (OneHotEncoder(),['sex','smoker','region','grade']),\n",
    "    (StandardScaler(),['age','children'])\n",
    "    )"
   ]
  },
  {
   "cell_type": "code",
   "execution_count": 247,
   "metadata": {},
   "outputs": [
    {
     "data": {
      "text/plain": [
       "-5.625842117903536e+19"
      ]
     },
     "execution_count": 247,
     "metadata": {},
     "output_type": "execute_result"
    }
   ],
   "source": [
    "onehot = OneHotEncoder(drop=\"if_binary\")\n",
    "std = StandardScaler()\n",
    "num_pipe = make_pipeline(StandardScaler(),)\n",
    "onehot_col_std = make_column_transformer(\n",
    "    (onehot, ['sex', 'region', 'smoker', 'grade']),\n",
    "    (num_pipe, ['age',  'children'])\n",
    "    )\n",
    "preprocessing_poly_std = make_pipeline(onehot_col_std, PolynomialFeatures())\n",
    "lr = LinearRegression()\n",
    "# lr_pipe = make_pipeline(preprocessing_poly, lr)\n",
    "lr_pipe_std = make_pipeline(preprocessing_poly_std, lr)\n",
    "lr_pipe_std.fit(X_train, y_train)\n",
    "cross_validate(lr_pipe_std, X_train, y_train, cv=5)['test_score'].mean()"
   ]
  },
  {
   "cell_type": "code",
   "execution_count": 248,
   "metadata": {},
   "outputs": [
    {
     "data": {
      "text/plain": [
       "-3.188096301668275e+20"
      ]
     },
     "execution_count": 248,
     "metadata": {},
     "output_type": "execute_result"
    }
   ],
   "source": [
    "\n",
    "model_lr = make_pipeline(transformer,PolynomialFeatures(2),LinearRegression())\n",
    "model_lr.fit(X_train,y_train)\n",
    "\n",
    "\n",
    "cross_val=cross_validate(model_lr, X_train, y_train, cv=5, scoring='r2')\n",
    "cross_val['test_score'].mean()"
   ]
  },
  {
   "attachments": {},
   "cell_type": "markdown",
   "metadata": {},
   "source": [
    "Nous avons besoin d'encoder les variables catégorielles (OneHotEncoder) pour passer des strings à des integer\n",
    "La standardisation est utilisée pour converger vers la meilleure solution "
   ]
  },
  {
   "attachments": {},
   "cell_type": "markdown",
   "metadata": {},
   "source": [
    "#### Entrainement de notre model sur le X_train"
   ]
  },
  {
   "cell_type": "code",
   "execution_count": 249,
   "metadata": {},
   "outputs": [
    {
     "data": {
      "text/html": [
       "<style>#sk-container-id-24 {color: black;background-color: white;}#sk-container-id-24 pre{padding: 0;}#sk-container-id-24 div.sk-toggleable {background-color: white;}#sk-container-id-24 label.sk-toggleable__label {cursor: pointer;display: block;width: 100%;margin-bottom: 0;padding: 0.3em;box-sizing: border-box;text-align: center;}#sk-container-id-24 label.sk-toggleable__label-arrow:before {content: \"▸\";float: left;margin-right: 0.25em;color: #696969;}#sk-container-id-24 label.sk-toggleable__label-arrow:hover:before {color: black;}#sk-container-id-24 div.sk-estimator:hover label.sk-toggleable__label-arrow:before {color: black;}#sk-container-id-24 div.sk-toggleable__content {max-height: 0;max-width: 0;overflow: hidden;text-align: left;background-color: #f0f8ff;}#sk-container-id-24 div.sk-toggleable__content pre {margin: 0.2em;color: black;border-radius: 0.25em;background-color: #f0f8ff;}#sk-container-id-24 input.sk-toggleable__control:checked~div.sk-toggleable__content {max-height: 200px;max-width: 100%;overflow: auto;}#sk-container-id-24 input.sk-toggleable__control:checked~label.sk-toggleable__label-arrow:before {content: \"▾\";}#sk-container-id-24 div.sk-estimator input.sk-toggleable__control:checked~label.sk-toggleable__label {background-color: #d4ebff;}#sk-container-id-24 div.sk-label input.sk-toggleable__control:checked~label.sk-toggleable__label {background-color: #d4ebff;}#sk-container-id-24 input.sk-hidden--visually {border: 0;clip: rect(1px 1px 1px 1px);clip: rect(1px, 1px, 1px, 1px);height: 1px;margin: -1px;overflow: hidden;padding: 0;position: absolute;width: 1px;}#sk-container-id-24 div.sk-estimator {font-family: monospace;background-color: #f0f8ff;border: 1px dotted black;border-radius: 0.25em;box-sizing: border-box;margin-bottom: 0.5em;}#sk-container-id-24 div.sk-estimator:hover {background-color: #d4ebff;}#sk-container-id-24 div.sk-parallel-item::after {content: \"\";width: 100%;border-bottom: 1px solid gray;flex-grow: 1;}#sk-container-id-24 div.sk-label:hover label.sk-toggleable__label {background-color: #d4ebff;}#sk-container-id-24 div.sk-serial::before {content: \"\";position: absolute;border-left: 1px solid gray;box-sizing: border-box;top: 0;bottom: 0;left: 50%;z-index: 0;}#sk-container-id-24 div.sk-serial {display: flex;flex-direction: column;align-items: center;background-color: white;padding-right: 0.2em;padding-left: 0.2em;position: relative;}#sk-container-id-24 div.sk-item {position: relative;z-index: 1;}#sk-container-id-24 div.sk-parallel {display: flex;align-items: stretch;justify-content: center;background-color: white;position: relative;}#sk-container-id-24 div.sk-item::before, #sk-container-id-24 div.sk-parallel-item::before {content: \"\";position: absolute;border-left: 1px solid gray;box-sizing: border-box;top: 0;bottom: 0;left: 50%;z-index: -1;}#sk-container-id-24 div.sk-parallel-item {display: flex;flex-direction: column;z-index: 1;position: relative;background-color: white;}#sk-container-id-24 div.sk-parallel-item:first-child::after {align-self: flex-end;width: 50%;}#sk-container-id-24 div.sk-parallel-item:last-child::after {align-self: flex-start;width: 50%;}#sk-container-id-24 div.sk-parallel-item:only-child::after {width: 0;}#sk-container-id-24 div.sk-dashed-wrapped {border: 1px dashed gray;margin: 0 0.4em 0.5em 0.4em;box-sizing: border-box;padding-bottom: 0.4em;background-color: white;}#sk-container-id-24 div.sk-label label {font-family: monospace;font-weight: bold;display: inline-block;line-height: 1.2em;}#sk-container-id-24 div.sk-label-container {text-align: center;}#sk-container-id-24 div.sk-container {/* jupyter's `normalize.less` sets `[hidden] { display: none; }` but bootstrap.min.css set `[hidden] { display: none !important; }` so we also need the `!important` here to be able to override the default hidden behavior on the sphinx rendered scikit-learn.org. See: https://github.com/scikit-learn/scikit-learn/issues/21755 */display: inline-block !important;position: relative;}#sk-container-id-24 div.sk-text-repr-fallback {display: none;}</style><div id=\"sk-container-id-24\" class=\"sk-top-container\"><div class=\"sk-text-repr-fallback\"><pre>Pipeline(steps=[(&#x27;columntransformer&#x27;,\n",
       "                 ColumnTransformer(transformers=[(&#x27;onehotencoder&#x27;,\n",
       "                                                  OneHotEncoder(),\n",
       "                                                  [&#x27;sex&#x27;, &#x27;smoker&#x27;, &#x27;region&#x27;,\n",
       "                                                   &#x27;grade&#x27;]),\n",
       "                                                 (&#x27;standardscaler&#x27;,\n",
       "                                                  StandardScaler(),\n",
       "                                                  [&#x27;age&#x27;, &#x27;children&#x27;])])),\n",
       "                (&#x27;polynomialfeatures&#x27;, PolynomialFeatures()),\n",
       "                (&#x27;elasticnet&#x27;, ElasticNet(random_state=42))])</pre><b>In a Jupyter environment, please rerun this cell to show the HTML representation or trust the notebook. <br />On GitHub, the HTML representation is unable to render, please try loading this page with nbviewer.org.</b></div><div class=\"sk-container\" hidden><div class=\"sk-item sk-dashed-wrapped\"><div class=\"sk-label-container\"><div class=\"sk-label sk-toggleable\"><input class=\"sk-toggleable__control sk-hidden--visually\" id=\"sk-estimator-id-192\" type=\"checkbox\" ><label for=\"sk-estimator-id-192\" class=\"sk-toggleable__label sk-toggleable__label-arrow\">Pipeline</label><div class=\"sk-toggleable__content\"><pre>Pipeline(steps=[(&#x27;columntransformer&#x27;,\n",
       "                 ColumnTransformer(transformers=[(&#x27;onehotencoder&#x27;,\n",
       "                                                  OneHotEncoder(),\n",
       "                                                  [&#x27;sex&#x27;, &#x27;smoker&#x27;, &#x27;region&#x27;,\n",
       "                                                   &#x27;grade&#x27;]),\n",
       "                                                 (&#x27;standardscaler&#x27;,\n",
       "                                                  StandardScaler(),\n",
       "                                                  [&#x27;age&#x27;, &#x27;children&#x27;])])),\n",
       "                (&#x27;polynomialfeatures&#x27;, PolynomialFeatures()),\n",
       "                (&#x27;elasticnet&#x27;, ElasticNet(random_state=42))])</pre></div></div></div><div class=\"sk-serial\"><div class=\"sk-item sk-dashed-wrapped\"><div class=\"sk-label-container\"><div class=\"sk-label sk-toggleable\"><input class=\"sk-toggleable__control sk-hidden--visually\" id=\"sk-estimator-id-193\" type=\"checkbox\" ><label for=\"sk-estimator-id-193\" class=\"sk-toggleable__label sk-toggleable__label-arrow\">columntransformer: ColumnTransformer</label><div class=\"sk-toggleable__content\"><pre>ColumnTransformer(transformers=[(&#x27;onehotencoder&#x27;, OneHotEncoder(),\n",
       "                                 [&#x27;sex&#x27;, &#x27;smoker&#x27;, &#x27;region&#x27;, &#x27;grade&#x27;]),\n",
       "                                (&#x27;standardscaler&#x27;, StandardScaler(),\n",
       "                                 [&#x27;age&#x27;, &#x27;children&#x27;])])</pre></div></div></div><div class=\"sk-parallel\"><div class=\"sk-parallel-item\"><div class=\"sk-item\"><div class=\"sk-label-container\"><div class=\"sk-label sk-toggleable\"><input class=\"sk-toggleable__control sk-hidden--visually\" id=\"sk-estimator-id-194\" type=\"checkbox\" ><label for=\"sk-estimator-id-194\" class=\"sk-toggleable__label sk-toggleable__label-arrow\">onehotencoder</label><div class=\"sk-toggleable__content\"><pre>[&#x27;sex&#x27;, &#x27;smoker&#x27;, &#x27;region&#x27;, &#x27;grade&#x27;]</pre></div></div></div><div class=\"sk-serial\"><div class=\"sk-item\"><div class=\"sk-estimator sk-toggleable\"><input class=\"sk-toggleable__control sk-hidden--visually\" id=\"sk-estimator-id-195\" type=\"checkbox\" ><label for=\"sk-estimator-id-195\" class=\"sk-toggleable__label sk-toggleable__label-arrow\">OneHotEncoder</label><div class=\"sk-toggleable__content\"><pre>OneHotEncoder()</pre></div></div></div></div></div></div><div class=\"sk-parallel-item\"><div class=\"sk-item\"><div class=\"sk-label-container\"><div class=\"sk-label sk-toggleable\"><input class=\"sk-toggleable__control sk-hidden--visually\" id=\"sk-estimator-id-196\" type=\"checkbox\" ><label for=\"sk-estimator-id-196\" class=\"sk-toggleable__label sk-toggleable__label-arrow\">standardscaler</label><div class=\"sk-toggleable__content\"><pre>[&#x27;age&#x27;, &#x27;children&#x27;]</pre></div></div></div><div class=\"sk-serial\"><div class=\"sk-item\"><div class=\"sk-estimator sk-toggleable\"><input class=\"sk-toggleable__control sk-hidden--visually\" id=\"sk-estimator-id-197\" type=\"checkbox\" ><label for=\"sk-estimator-id-197\" class=\"sk-toggleable__label sk-toggleable__label-arrow\">StandardScaler</label><div class=\"sk-toggleable__content\"><pre>StandardScaler()</pre></div></div></div></div></div></div></div></div><div class=\"sk-item\"><div class=\"sk-estimator sk-toggleable\"><input class=\"sk-toggleable__control sk-hidden--visually\" id=\"sk-estimator-id-198\" type=\"checkbox\" ><label for=\"sk-estimator-id-198\" class=\"sk-toggleable__label sk-toggleable__label-arrow\">PolynomialFeatures</label><div class=\"sk-toggleable__content\"><pre>PolynomialFeatures()</pre></div></div></div><div class=\"sk-item\"><div class=\"sk-estimator sk-toggleable\"><input class=\"sk-toggleable__control sk-hidden--visually\" id=\"sk-estimator-id-199\" type=\"checkbox\" ><label for=\"sk-estimator-id-199\" class=\"sk-toggleable__label sk-toggleable__label-arrow\">ElasticNet</label><div class=\"sk-toggleable__content\"><pre>ElasticNet(random_state=42)</pre></div></div></div></div></div></div></div>"
      ],
      "text/plain": [
       "Pipeline(steps=[('columntransformer',\n",
       "                 ColumnTransformer(transformers=[('onehotencoder',\n",
       "                                                  OneHotEncoder(),\n",
       "                                                  ['sex', 'smoker', 'region',\n",
       "                                                   'grade']),\n",
       "                                                 ('standardscaler',\n",
       "                                                  StandardScaler(),\n",
       "                                                  ['age', 'children'])])),\n",
       "                ('polynomialfeatures', PolynomialFeatures()),\n",
       "                ('elasticnet', ElasticNet(random_state=42))])"
      ]
     },
     "execution_count": 249,
     "metadata": {},
     "output_type": "execute_result"
    }
   ],
   "source": [
    "model = make_pipeline(transformer,PolynomialFeatures(),ElasticNet(random_state=42 ))\n",
    "model.fit(X_train, y_train)\n"
   ]
  },
  {
   "cell_type": "code",
   "execution_count": 250,
   "metadata": {},
   "outputs": [
    {
     "data": {
      "text/plain": [
       "0.7200690742771397"
      ]
     },
     "execution_count": 250,
     "metadata": {},
     "output_type": "execute_result"
    }
   ],
   "source": [
    "cross_val=cross_validate(model, X_train, y_train,cv=5)\n",
    "cross_val['test_score'].mean()"
   ]
  },
  {
   "attachments": {},
   "cell_type": "markdown",
   "metadata": {},
   "source": [
    "Nous obtenons une score de 65 , après la cross validation, pour notre modele avec les valeurs par defaut des paramètres de notre modele."
   ]
  },
  {
   "attachments": {},
   "cell_type": "markdown",
   "metadata": {},
   "source": [
    "#### Utilisation d'un RandomizeSearch afin d'avoir un ordre d'idée de l'hyperparamètre d'ElasticNet à modifier pour améliorer notre model"
   ]
  },
  {
   "cell_type": "code",
   "execution_count": 251,
   "metadata": {},
   "outputs": [
    {
     "name": "stderr",
     "output_type": "stream",
     "text": [
      "/home/apprenant/miniconda3/envs/data_env/lib/python3.9/site-packages/sklearn/linear_model/_coordinate_descent.py:634: ConvergenceWarning: Objective did not converge. You might want to increase the number of iterations, check the scale of the features or consider increasing regularisation. Duality gap: 2.395e+08, tolerance: 1.332e+07\n",
      "  model = cd_fast.enet_coordinate_descent(\n",
      "/home/apprenant/miniconda3/envs/data_env/lib/python3.9/site-packages/sklearn/linear_model/_coordinate_descent.py:634: ConvergenceWarning: Objective did not converge. You might want to increase the number of iterations, check the scale of the features or consider increasing regularisation. Duality gap: 8.455e+07, tolerance: 1.367e+07\n",
      "  model = cd_fast.enet_coordinate_descent(\n",
      "/home/apprenant/miniconda3/envs/data_env/lib/python3.9/site-packages/sklearn/linear_model/_coordinate_descent.py:634: ConvergenceWarning: Objective did not converge. You might want to increase the number of iterations, check the scale of the features or consider increasing regularisation. Duality gap: 1.163e+08, tolerance: 1.415e+07\n",
      "  model = cd_fast.enet_coordinate_descent(\n",
      "/home/apprenant/miniconda3/envs/data_env/lib/python3.9/site-packages/sklearn/linear_model/_coordinate_descent.py:634: ConvergenceWarning: Objective did not converge. You might want to increase the number of iterations, check the scale of the features or consider increasing regularisation. Duality gap: 1.879e+07, tolerance: 1.351e+07\n",
      "  model = cd_fast.enet_coordinate_descent(\n"
     ]
    },
    {
     "name": "stdout",
     "output_type": "stream",
     "text": [
      "{'polynomialfeatures__degree': 2, 'elasticnet__l1_ratio': 1, 'elasticnet__alpha': 85.97194388777555}\n"
     ]
    }
   ],
   "source": [
    "param_search = {'elasticnet__alpha':np.linspace(0,100,500),'elasticnet__l1_ratio':[1],'polynomialfeatures__degree':[1,2]}\n",
    "random_search = RandomizedSearchCV(model, param_distributions=param_search, n_iter=100, cv=5, random_state=42)\n",
    "random_search.fit(X_train, y_train)\n",
    "print(random_search.best_params_)"
   ]
  },
  {
   "attachments": {},
   "cell_type": "markdown",
   "metadata": {},
   "source": [
    "#### Utilisation d'un GridSearch afin d'obtenir l'hyperparamètre d'ElasticNet( centré autour de la valeur donnée par le RandomizeSearch) le plus efficient"
   ]
  },
  {
   "cell_type": "code",
   "execution_count": 252,
   "metadata": {},
   "outputs": [
    {
     "data": {
      "text/html": [
       "<style>#sk-container-id-25 {color: black;background-color: white;}#sk-container-id-25 pre{padding: 0;}#sk-container-id-25 div.sk-toggleable {background-color: white;}#sk-container-id-25 label.sk-toggleable__label {cursor: pointer;display: block;width: 100%;margin-bottom: 0;padding: 0.3em;box-sizing: border-box;text-align: center;}#sk-container-id-25 label.sk-toggleable__label-arrow:before {content: \"▸\";float: left;margin-right: 0.25em;color: #696969;}#sk-container-id-25 label.sk-toggleable__label-arrow:hover:before {color: black;}#sk-container-id-25 div.sk-estimator:hover label.sk-toggleable__label-arrow:before {color: black;}#sk-container-id-25 div.sk-toggleable__content {max-height: 0;max-width: 0;overflow: hidden;text-align: left;background-color: #f0f8ff;}#sk-container-id-25 div.sk-toggleable__content pre {margin: 0.2em;color: black;border-radius: 0.25em;background-color: #f0f8ff;}#sk-container-id-25 input.sk-toggleable__control:checked~div.sk-toggleable__content {max-height: 200px;max-width: 100%;overflow: auto;}#sk-container-id-25 input.sk-toggleable__control:checked~label.sk-toggleable__label-arrow:before {content: \"▾\";}#sk-container-id-25 div.sk-estimator input.sk-toggleable__control:checked~label.sk-toggleable__label {background-color: #d4ebff;}#sk-container-id-25 div.sk-label input.sk-toggleable__control:checked~label.sk-toggleable__label {background-color: #d4ebff;}#sk-container-id-25 input.sk-hidden--visually {border: 0;clip: rect(1px 1px 1px 1px);clip: rect(1px, 1px, 1px, 1px);height: 1px;margin: -1px;overflow: hidden;padding: 0;position: absolute;width: 1px;}#sk-container-id-25 div.sk-estimator {font-family: monospace;background-color: #f0f8ff;border: 1px dotted black;border-radius: 0.25em;box-sizing: border-box;margin-bottom: 0.5em;}#sk-container-id-25 div.sk-estimator:hover {background-color: #d4ebff;}#sk-container-id-25 div.sk-parallel-item::after {content: \"\";width: 100%;border-bottom: 1px solid gray;flex-grow: 1;}#sk-container-id-25 div.sk-label:hover label.sk-toggleable__label {background-color: #d4ebff;}#sk-container-id-25 div.sk-serial::before {content: \"\";position: absolute;border-left: 1px solid gray;box-sizing: border-box;top: 0;bottom: 0;left: 50%;z-index: 0;}#sk-container-id-25 div.sk-serial {display: flex;flex-direction: column;align-items: center;background-color: white;padding-right: 0.2em;padding-left: 0.2em;position: relative;}#sk-container-id-25 div.sk-item {position: relative;z-index: 1;}#sk-container-id-25 div.sk-parallel {display: flex;align-items: stretch;justify-content: center;background-color: white;position: relative;}#sk-container-id-25 div.sk-item::before, #sk-container-id-25 div.sk-parallel-item::before {content: \"\";position: absolute;border-left: 1px solid gray;box-sizing: border-box;top: 0;bottom: 0;left: 50%;z-index: -1;}#sk-container-id-25 div.sk-parallel-item {display: flex;flex-direction: column;z-index: 1;position: relative;background-color: white;}#sk-container-id-25 div.sk-parallel-item:first-child::after {align-self: flex-end;width: 50%;}#sk-container-id-25 div.sk-parallel-item:last-child::after {align-self: flex-start;width: 50%;}#sk-container-id-25 div.sk-parallel-item:only-child::after {width: 0;}#sk-container-id-25 div.sk-dashed-wrapped {border: 1px dashed gray;margin: 0 0.4em 0.5em 0.4em;box-sizing: border-box;padding-bottom: 0.4em;background-color: white;}#sk-container-id-25 div.sk-label label {font-family: monospace;font-weight: bold;display: inline-block;line-height: 1.2em;}#sk-container-id-25 div.sk-label-container {text-align: center;}#sk-container-id-25 div.sk-container {/* jupyter's `normalize.less` sets `[hidden] { display: none; }` but bootstrap.min.css set `[hidden] { display: none !important; }` so we also need the `!important` here to be able to override the default hidden behavior on the sphinx rendered scikit-learn.org. See: https://github.com/scikit-learn/scikit-learn/issues/21755 */display: inline-block !important;position: relative;}#sk-container-id-25 div.sk-text-repr-fallback {display: none;}</style><div id=\"sk-container-id-25\" class=\"sk-top-container\"><div class=\"sk-text-repr-fallback\"><pre>GridSearchCV(cv=5,\n",
       "             estimator=Pipeline(steps=[(&#x27;columntransformer&#x27;,\n",
       "                                        ColumnTransformer(transformers=[(&#x27;onehotencoder&#x27;,\n",
       "                                                                         OneHotEncoder(),\n",
       "                                                                         [&#x27;sex&#x27;,\n",
       "                                                                          &#x27;smoker&#x27;,\n",
       "                                                                          &#x27;region&#x27;,\n",
       "                                                                          &#x27;grade&#x27;]),\n",
       "                                                                        (&#x27;standardscaler&#x27;,\n",
       "                                                                         StandardScaler(),\n",
       "                                                                         [&#x27;age&#x27;,\n",
       "                                                                          &#x27;children&#x27;])])),\n",
       "                                       (&#x27;polynomialfeatures&#x27;,\n",
       "                                        PolynomialFeatures()),\n",
       "                                       (&#x27;elasticnet&#x27;,\n",
       "                                        ElasticNet(alpha=85.97194388777555,\n",
       "                                                   l1_ratio=1,\n",
       "                                                   random_state=42))]),\n",
       "             par...\n",
       "       85.53535354, 85.58585859, 85.63636364, 85.68686869, 85.73737374,\n",
       "       85.78787879, 85.83838384, 85.88888889, 85.93939394, 85.98989899,\n",
       "       86.04040404, 86.09090909, 86.14141414, 86.19191919, 86.24242424,\n",
       "       86.29292929, 86.34343434, 86.39393939, 86.44444444, 86.49494949,\n",
       "       86.54545455, 86.5959596 , 86.64646465, 86.6969697 , 86.74747475,\n",
       "       86.7979798 , 86.84848485, 86.8989899 , 86.94949495, 87.        ])},\n",
       "             scoring=&#x27;r2&#x27;)</pre><b>In a Jupyter environment, please rerun this cell to show the HTML representation or trust the notebook. <br />On GitHub, the HTML representation is unable to render, please try loading this page with nbviewer.org.</b></div><div class=\"sk-container\" hidden><div class=\"sk-item sk-dashed-wrapped\"><div class=\"sk-label-container\"><div class=\"sk-label sk-toggleable\"><input class=\"sk-toggleable__control sk-hidden--visually\" id=\"sk-estimator-id-200\" type=\"checkbox\" ><label for=\"sk-estimator-id-200\" class=\"sk-toggleable__label sk-toggleable__label-arrow\">GridSearchCV</label><div class=\"sk-toggleable__content\"><pre>GridSearchCV(cv=5,\n",
       "             estimator=Pipeline(steps=[(&#x27;columntransformer&#x27;,\n",
       "                                        ColumnTransformer(transformers=[(&#x27;onehotencoder&#x27;,\n",
       "                                                                         OneHotEncoder(),\n",
       "                                                                         [&#x27;sex&#x27;,\n",
       "                                                                          &#x27;smoker&#x27;,\n",
       "                                                                          &#x27;region&#x27;,\n",
       "                                                                          &#x27;grade&#x27;]),\n",
       "                                                                        (&#x27;standardscaler&#x27;,\n",
       "                                                                         StandardScaler(),\n",
       "                                                                         [&#x27;age&#x27;,\n",
       "                                                                          &#x27;children&#x27;])])),\n",
       "                                       (&#x27;polynomialfeatures&#x27;,\n",
       "                                        PolynomialFeatures()),\n",
       "                                       (&#x27;elasticnet&#x27;,\n",
       "                                        ElasticNet(alpha=85.97194388777555,\n",
       "                                                   l1_ratio=1,\n",
       "                                                   random_state=42))]),\n",
       "             par...\n",
       "       85.53535354, 85.58585859, 85.63636364, 85.68686869, 85.73737374,\n",
       "       85.78787879, 85.83838384, 85.88888889, 85.93939394, 85.98989899,\n",
       "       86.04040404, 86.09090909, 86.14141414, 86.19191919, 86.24242424,\n",
       "       86.29292929, 86.34343434, 86.39393939, 86.44444444, 86.49494949,\n",
       "       86.54545455, 86.5959596 , 86.64646465, 86.6969697 , 86.74747475,\n",
       "       86.7979798 , 86.84848485, 86.8989899 , 86.94949495, 87.        ])},\n",
       "             scoring=&#x27;r2&#x27;)</pre></div></div></div><div class=\"sk-parallel\"><div class=\"sk-parallel-item\"><div class=\"sk-item\"><div class=\"sk-label-container\"><div class=\"sk-label sk-toggleable\"><input class=\"sk-toggleable__control sk-hidden--visually\" id=\"sk-estimator-id-201\" type=\"checkbox\" ><label for=\"sk-estimator-id-201\" class=\"sk-toggleable__label sk-toggleable__label-arrow\">estimator: Pipeline</label><div class=\"sk-toggleable__content\"><pre>Pipeline(steps=[(&#x27;columntransformer&#x27;,\n",
       "                 ColumnTransformer(transformers=[(&#x27;onehotencoder&#x27;,\n",
       "                                                  OneHotEncoder(),\n",
       "                                                  [&#x27;sex&#x27;, &#x27;smoker&#x27;, &#x27;region&#x27;,\n",
       "                                                   &#x27;grade&#x27;]),\n",
       "                                                 (&#x27;standardscaler&#x27;,\n",
       "                                                  StandardScaler(),\n",
       "                                                  [&#x27;age&#x27;, &#x27;children&#x27;])])),\n",
       "                (&#x27;polynomialfeatures&#x27;, PolynomialFeatures()),\n",
       "                (&#x27;elasticnet&#x27;,\n",
       "                 ElasticNet(alpha=85.97194388777555, l1_ratio=1,\n",
       "                            random_state=42))])</pre></div></div></div><div class=\"sk-serial\"><div class=\"sk-item\"><div class=\"sk-serial\"><div class=\"sk-item sk-dashed-wrapped\"><div class=\"sk-label-container\"><div class=\"sk-label sk-toggleable\"><input class=\"sk-toggleable__control sk-hidden--visually\" id=\"sk-estimator-id-202\" type=\"checkbox\" ><label for=\"sk-estimator-id-202\" class=\"sk-toggleable__label sk-toggleable__label-arrow\">columntransformer: ColumnTransformer</label><div class=\"sk-toggleable__content\"><pre>ColumnTransformer(transformers=[(&#x27;onehotencoder&#x27;, OneHotEncoder(),\n",
       "                                 [&#x27;sex&#x27;, &#x27;smoker&#x27;, &#x27;region&#x27;, &#x27;grade&#x27;]),\n",
       "                                (&#x27;standardscaler&#x27;, StandardScaler(),\n",
       "                                 [&#x27;age&#x27;, &#x27;children&#x27;])])</pre></div></div></div><div class=\"sk-parallel\"><div class=\"sk-parallel-item\"><div class=\"sk-item\"><div class=\"sk-label-container\"><div class=\"sk-label sk-toggleable\"><input class=\"sk-toggleable__control sk-hidden--visually\" id=\"sk-estimator-id-203\" type=\"checkbox\" ><label for=\"sk-estimator-id-203\" class=\"sk-toggleable__label sk-toggleable__label-arrow\">onehotencoder</label><div class=\"sk-toggleable__content\"><pre>[&#x27;sex&#x27;, &#x27;smoker&#x27;, &#x27;region&#x27;, &#x27;grade&#x27;]</pre></div></div></div><div class=\"sk-serial\"><div class=\"sk-item\"><div class=\"sk-estimator sk-toggleable\"><input class=\"sk-toggleable__control sk-hidden--visually\" id=\"sk-estimator-id-204\" type=\"checkbox\" ><label for=\"sk-estimator-id-204\" class=\"sk-toggleable__label sk-toggleable__label-arrow\">OneHotEncoder</label><div class=\"sk-toggleable__content\"><pre>OneHotEncoder()</pre></div></div></div></div></div></div><div class=\"sk-parallel-item\"><div class=\"sk-item\"><div class=\"sk-label-container\"><div class=\"sk-label sk-toggleable\"><input class=\"sk-toggleable__control sk-hidden--visually\" id=\"sk-estimator-id-205\" type=\"checkbox\" ><label for=\"sk-estimator-id-205\" class=\"sk-toggleable__label sk-toggleable__label-arrow\">standardscaler</label><div class=\"sk-toggleable__content\"><pre>[&#x27;age&#x27;, &#x27;children&#x27;]</pre></div></div></div><div class=\"sk-serial\"><div class=\"sk-item\"><div class=\"sk-estimator sk-toggleable\"><input class=\"sk-toggleable__control sk-hidden--visually\" id=\"sk-estimator-id-206\" type=\"checkbox\" ><label for=\"sk-estimator-id-206\" class=\"sk-toggleable__label sk-toggleable__label-arrow\">StandardScaler</label><div class=\"sk-toggleable__content\"><pre>StandardScaler()</pre></div></div></div></div></div></div></div></div><div class=\"sk-item\"><div class=\"sk-estimator sk-toggleable\"><input class=\"sk-toggleable__control sk-hidden--visually\" id=\"sk-estimator-id-207\" type=\"checkbox\" ><label for=\"sk-estimator-id-207\" class=\"sk-toggleable__label sk-toggleable__label-arrow\">PolynomialFeatures</label><div class=\"sk-toggleable__content\"><pre>PolynomialFeatures()</pre></div></div></div><div class=\"sk-item\"><div class=\"sk-estimator sk-toggleable\"><input class=\"sk-toggleable__control sk-hidden--visually\" id=\"sk-estimator-id-208\" type=\"checkbox\" ><label for=\"sk-estimator-id-208\" class=\"sk-toggleable__label sk-toggleable__label-arrow\">ElasticNet</label><div class=\"sk-toggleable__content\"><pre>ElasticNet(alpha=85.97194388777555, l1_ratio=1, random_state=42)</pre></div></div></div></div></div></div></div></div></div></div></div></div>"
      ],
      "text/plain": [
       "GridSearchCV(cv=5,\n",
       "             estimator=Pipeline(steps=[('columntransformer',\n",
       "                                        ColumnTransformer(transformers=[('onehotencoder',\n",
       "                                                                         OneHotEncoder(),\n",
       "                                                                         ['sex',\n",
       "                                                                          'smoker',\n",
       "                                                                          'region',\n",
       "                                                                          'grade']),\n",
       "                                                                        ('standardscaler',\n",
       "                                                                         StandardScaler(),\n",
       "                                                                         ['age',\n",
       "                                                                          'children'])])),\n",
       "                                       ('polynomialfeatures',\n",
       "                                        PolynomialFeatures()),\n",
       "                                       ('elasticnet',\n",
       "                                        ElasticNet(alpha=85.97194388777555,\n",
       "                                                   l1_ratio=1,\n",
       "                                                   random_state=42))]),\n",
       "             par...\n",
       "       85.53535354, 85.58585859, 85.63636364, 85.68686869, 85.73737374,\n",
       "       85.78787879, 85.83838384, 85.88888889, 85.93939394, 85.98989899,\n",
       "       86.04040404, 86.09090909, 86.14141414, 86.19191919, 86.24242424,\n",
       "       86.29292929, 86.34343434, 86.39393939, 86.44444444, 86.49494949,\n",
       "       86.54545455, 86.5959596 , 86.64646465, 86.6969697 , 86.74747475,\n",
       "       86.7979798 , 86.84848485, 86.8989899 , 86.94949495, 87.        ])},\n",
       "             scoring='r2')"
      ]
     },
     "execution_count": 252,
     "metadata": {},
     "output_type": "execute_result"
    }
   ],
   "source": [
    "params = {'elasticnet__alpha':np.linspace(82,87,100)}\n",
    "grid=GridSearchCV(random_search.best_estimator_, param_grid=params, scoring='r2', cv=5)\n",
    "grid.fit(X_train, y_train)"
   ]
  },
  {
   "attachments": {},
   "cell_type": "markdown",
   "metadata": {},
   "source": [
    "Valeur de l'hyperparamètre alpha déterminée grâce au GridSearch"
   ]
  },
  {
   "cell_type": "code",
   "execution_count": 253,
   "metadata": {},
   "outputs": [
    {
     "data": {
      "text/plain": [
       "{'elasticnet__alpha': 85.03030303030303}"
      ]
     },
     "execution_count": 253,
     "metadata": {},
     "output_type": "execute_result"
    }
   ],
   "source": [
    "grid.best_params_\n",
    "# {'elasticnet__alpha': 27.0}"
   ]
  },
  {
   "attachments": {},
   "cell_type": "markdown",
   "metadata": {},
   "source": [
    "Application du meilleur hyperparamètre (trouvé) à notre model "
   ]
  },
  {
   "cell_type": "code",
   "execution_count": 254,
   "metadata": {},
   "outputs": [],
   "source": [
    "best_model= grid.best_estimator_"
   ]
  },
  {
   "cell_type": "code",
   "execution_count": 255,
   "metadata": {},
   "outputs": [
    {
     "data": {
      "text/plain": [
       "0.8601806781089794"
      ]
     },
     "execution_count": 255,
     "metadata": {},
     "output_type": "execute_result"
    }
   ],
   "source": [
    "grid.best_score_"
   ]
  },
  {
   "cell_type": "code",
   "execution_count": 256,
   "metadata": {},
   "outputs": [
    {
     "data": {
      "image/png": "[encoded data removed]",
      "text/plain": [
       "<Figure size 1000x600 with 1 Axes>"
      ]
     },
     "metadata": {},
     "output_type": "display_data"
    }
   ],
   "source": [
    "best_model.fit(X_train,y_train)\n",
    "y_pred = best_model.predict(X_train)\n",
    "plt.subplots(figsize=(10, 6))\n",
    "plt.scatter(y_pred,y_train,marker=\"+\",s=50)\n",
    "plt.plot(np.arange(max(y_test.values)), np.arange(max(y_test.values)), '-', color='r')\n",
    "plt.show()\n"
   ]
  },
  {
   "attachments": {},
   "cell_type": "markdown",
   "metadata": {},
   "source": [
    "#### Présentation des scores R2 de notre modèle"
   ]
  },
  {
   "cell_type": "code",
   "execution_count": 257,
   "metadata": {},
   "outputs": [
    {
     "data": {
      "text/plain": [
       "0.8701146096433207"
      ]
     },
     "execution_count": 257,
     "metadata": {},
     "output_type": "execute_result"
    }
   ],
   "source": [
    "best_model.score(X_train,y_train)"
   ]
  },
  {
   "attachments": {},
   "cell_type": "markdown",
   "metadata": {},
   "source": [
    "Après l'application des hyperparamètres, on peut observer que notre modele s'est bien améliorer! On obtient un score de 80!"
   ]
  },
  {
   "attachments": {},
   "cell_type": "markdown",
   "metadata": {},
   "source": [
    "## Utilsation de la regression lineaire afin de comparer avec notre model ElasticNet"
   ]
  },
  {
   "cell_type": "code",
   "execution_count": 258,
   "metadata": {},
   "outputs": [
    {
     "data": {
      "text/html": [
       "<style>#sk-container-id-26 {color: black;background-color: white;}#sk-container-id-26 pre{padding: 0;}#sk-container-id-26 div.sk-toggleable {background-color: white;}#sk-container-id-26 label.sk-toggleable__label {cursor: pointer;display: block;width: 100%;margin-bottom: 0;padding: 0.3em;box-sizing: border-box;text-align: center;}#sk-container-id-26 label.sk-toggleable__label-arrow:before {content: \"▸\";float: left;margin-right: 0.25em;color: #696969;}#sk-container-id-26 label.sk-toggleable__label-arrow:hover:before {color: black;}#sk-container-id-26 div.sk-estimator:hover label.sk-toggleable__label-arrow:before {color: black;}#sk-container-id-26 div.sk-toggleable__content {max-height: 0;max-width: 0;overflow: hidden;text-align: left;background-color: #f0f8ff;}#sk-container-id-26 div.sk-toggleable__content pre {margin: 0.2em;color: black;border-radius: 0.25em;background-color: #f0f8ff;}#sk-container-id-26 input.sk-toggleable__control:checked~div.sk-toggleable__content {max-height: 200px;max-width: 100%;overflow: auto;}#sk-container-id-26 input.sk-toggleable__control:checked~label.sk-toggleable__label-arrow:before {content: \"▾\";}#sk-container-id-26 div.sk-estimator input.sk-toggleable__control:checked~label.sk-toggleable__label {background-color: #d4ebff;}#sk-container-id-26 div.sk-label input.sk-toggleable__control:checked~label.sk-toggleable__label {background-color: #d4ebff;}#sk-container-id-26 input.sk-hidden--visually {border: 0;clip: rect(1px 1px 1px 1px);clip: rect(1px, 1px, 1px, 1px);height: 1px;margin: -1px;overflow: hidden;padding: 0;position: absolute;width: 1px;}#sk-container-id-26 div.sk-estimator {font-family: monospace;background-color: #f0f8ff;border: 1px dotted black;border-radius: 0.25em;box-sizing: border-box;margin-bottom: 0.5em;}#sk-container-id-26 div.sk-estimator:hover {background-color: #d4ebff;}#sk-container-id-26 div.sk-parallel-item::after {content: \"\";width: 100%;border-bottom: 1px solid gray;flex-grow: 1;}#sk-container-id-26 div.sk-label:hover label.sk-toggleable__label {background-color: #d4ebff;}#sk-container-id-26 div.sk-serial::before {content: \"\";position: absolute;border-left: 1px solid gray;box-sizing: border-box;top: 0;bottom: 0;left: 50%;z-index: 0;}#sk-container-id-26 div.sk-serial {display: flex;flex-direction: column;align-items: center;background-color: white;padding-right: 0.2em;padding-left: 0.2em;position: relative;}#sk-container-id-26 div.sk-item {position: relative;z-index: 1;}#sk-container-id-26 div.sk-parallel {display: flex;align-items: stretch;justify-content: center;background-color: white;position: relative;}#sk-container-id-26 div.sk-item::before, #sk-container-id-26 div.sk-parallel-item::before {content: \"\";position: absolute;border-left: 1px solid gray;box-sizing: border-box;top: 0;bottom: 0;left: 50%;z-index: -1;}#sk-container-id-26 div.sk-parallel-item {display: flex;flex-direction: column;z-index: 1;position: relative;background-color: white;}#sk-container-id-26 div.sk-parallel-item:first-child::after {align-self: flex-end;width: 50%;}#sk-container-id-26 div.sk-parallel-item:last-child::after {align-self: flex-start;width: 50%;}#sk-container-id-26 div.sk-parallel-item:only-child::after {width: 0;}#sk-container-id-26 div.sk-dashed-wrapped {border: 1px dashed gray;margin: 0 0.4em 0.5em 0.4em;box-sizing: border-box;padding-bottom: 0.4em;background-color: white;}#sk-container-id-26 div.sk-label label {font-family: monospace;font-weight: bold;display: inline-block;line-height: 1.2em;}#sk-container-id-26 div.sk-label-container {text-align: center;}#sk-container-id-26 div.sk-container {/* jupyter's `normalize.less` sets `[hidden] { display: none; }` but bootstrap.min.css set `[hidden] { display: none !important; }` so we also need the `!important` here to be able to override the default hidden behavior on the sphinx rendered scikit-learn.org. See: https://github.com/scikit-learn/scikit-learn/issues/21755 */display: inline-block !important;position: relative;}#sk-container-id-26 div.sk-text-repr-fallback {display: none;}</style><div id=\"sk-container-id-26\" class=\"sk-top-container\"><div class=\"sk-text-repr-fallback\"><pre>Pipeline(steps=[(&#x27;columntransformer&#x27;,\n",
       "                 ColumnTransformer(transformers=[(&#x27;onehotencoder&#x27;,\n",
       "                                                  OneHotEncoder(),\n",
       "                                                  [&#x27;sex&#x27;, &#x27;smoker&#x27;, &#x27;region&#x27;,\n",
       "                                                   &#x27;grade&#x27;]),\n",
       "                                                 (&#x27;standardscaler&#x27;,\n",
       "                                                  StandardScaler(),\n",
       "                                                  [&#x27;age&#x27;, &#x27;children&#x27;])])),\n",
       "                (&#x27;polynomialfeatures&#x27;, PolynomialFeatures()),\n",
       "                (&#x27;linearregression&#x27;, LinearRegression())])</pre><b>In a Jupyter environment, please rerun this cell to show the HTML representation or trust the notebook. <br />On GitHub, the HTML representation is unable to render, please try loading this page with nbviewer.org.</b></div><div class=\"sk-container\" hidden><div class=\"sk-item sk-dashed-wrapped\"><div class=\"sk-label-container\"><div class=\"sk-label sk-toggleable\"><input class=\"sk-toggleable__control sk-hidden--visually\" id=\"sk-estimator-id-209\" type=\"checkbox\" ><label for=\"sk-estimator-id-209\" class=\"sk-toggleable__label sk-toggleable__label-arrow\">Pipeline</label><div class=\"sk-toggleable__content\"><pre>Pipeline(steps=[(&#x27;columntransformer&#x27;,\n",
       "                 ColumnTransformer(transformers=[(&#x27;onehotencoder&#x27;,\n",
       "                                                  OneHotEncoder(),\n",
       "                                                  [&#x27;sex&#x27;, &#x27;smoker&#x27;, &#x27;region&#x27;,\n",
       "                                                   &#x27;grade&#x27;]),\n",
       "                                                 (&#x27;standardscaler&#x27;,\n",
       "                                                  StandardScaler(),\n",
       "                                                  [&#x27;age&#x27;, &#x27;children&#x27;])])),\n",
       "                (&#x27;polynomialfeatures&#x27;, PolynomialFeatures()),\n",
       "                (&#x27;linearregression&#x27;, LinearRegression())])</pre></div></div></div><div class=\"sk-serial\"><div class=\"sk-item sk-dashed-wrapped\"><div class=\"sk-label-container\"><div class=\"sk-label sk-toggleable\"><input class=\"sk-toggleable__control sk-hidden--visually\" id=\"sk-estimator-id-210\" type=\"checkbox\" ><label for=\"sk-estimator-id-210\" class=\"sk-toggleable__label sk-toggleable__label-arrow\">columntransformer: ColumnTransformer</label><div class=\"sk-toggleable__content\"><pre>ColumnTransformer(transformers=[(&#x27;onehotencoder&#x27;, OneHotEncoder(),\n",
       "                                 [&#x27;sex&#x27;, &#x27;smoker&#x27;, &#x27;region&#x27;, &#x27;grade&#x27;]),\n",
       "                                (&#x27;standardscaler&#x27;, StandardScaler(),\n",
       "                                 [&#x27;age&#x27;, &#x27;children&#x27;])])</pre></div></div></div><div class=\"sk-parallel\"><div class=\"sk-parallel-item\"><div class=\"sk-item\"><div class=\"sk-label-container\"><div class=\"sk-label sk-toggleable\"><input class=\"sk-toggleable__control sk-hidden--visually\" id=\"sk-estimator-id-211\" type=\"checkbox\" ><label for=\"sk-estimator-id-211\" class=\"sk-toggleable__label sk-toggleable__label-arrow\">onehotencoder</label><div class=\"sk-toggleable__content\"><pre>[&#x27;sex&#x27;, &#x27;smoker&#x27;, &#x27;region&#x27;, &#x27;grade&#x27;]</pre></div></div></div><div class=\"sk-serial\"><div class=\"sk-item\"><div class=\"sk-estimator sk-toggleable\"><input class=\"sk-toggleable__control sk-hidden--visually\" id=\"sk-estimator-id-212\" type=\"checkbox\" ><label for=\"sk-estimator-id-212\" class=\"sk-toggleable__label sk-toggleable__label-arrow\">OneHotEncoder</label><div class=\"sk-toggleable__content\"><pre>OneHotEncoder()</pre></div></div></div></div></div></div><div class=\"sk-parallel-item\"><div class=\"sk-item\"><div class=\"sk-label-container\"><div class=\"sk-label sk-toggleable\"><input class=\"sk-toggleable__control sk-hidden--visually\" id=\"sk-estimator-id-213\" type=\"checkbox\" ><label for=\"sk-estimator-id-213\" class=\"sk-toggleable__label sk-toggleable__label-arrow\">standardscaler</label><div class=\"sk-toggleable__content\"><pre>[&#x27;age&#x27;, &#x27;children&#x27;]</pre></div></div></div><div class=\"sk-serial\"><div class=\"sk-item\"><div class=\"sk-estimator sk-toggleable\"><input class=\"sk-toggleable__control sk-hidden--visually\" id=\"sk-estimator-id-214\" type=\"checkbox\" ><label for=\"sk-estimator-id-214\" class=\"sk-toggleable__label sk-toggleable__label-arrow\">StandardScaler</label><div class=\"sk-toggleable__content\"><pre>StandardScaler()</pre></div></div></div></div></div></div></div></div><div class=\"sk-item\"><div class=\"sk-estimator sk-toggleable\"><input class=\"sk-toggleable__control sk-hidden--visually\" id=\"sk-estimator-id-215\" type=\"checkbox\" ><label for=\"sk-estimator-id-215\" class=\"sk-toggleable__label sk-toggleable__label-arrow\">PolynomialFeatures</label><div class=\"sk-toggleable__content\"><pre>PolynomialFeatures()</pre></div></div></div><div class=\"sk-item\"><div class=\"sk-estimator sk-toggleable\"><input class=\"sk-toggleable__control sk-hidden--visually\" id=\"sk-estimator-id-216\" type=\"checkbox\" ><label for=\"sk-estimator-id-216\" class=\"sk-toggleable__label sk-toggleable__label-arrow\">LinearRegression</label><div class=\"sk-toggleable__content\"><pre>LinearRegression()</pre></div></div></div></div></div></div></div>"
      ],
      "text/plain": [
       "Pipeline(steps=[('columntransformer',\n",
       "                 ColumnTransformer(transformers=[('onehotencoder',\n",
       "                                                  OneHotEncoder(),\n",
       "                                                  ['sex', 'smoker', 'region',\n",
       "                                                   'grade']),\n",
       "                                                 ('standardscaler',\n",
       "                                                  StandardScaler(),\n",
       "                                                  ['age', 'children'])])),\n",
       "                ('polynomialfeatures', PolynomialFeatures()),\n",
       "                ('linearregression', LinearRegression())])"
      ]
     },
     "execution_count": 258,
     "metadata": {},
     "output_type": "execute_result"
    }
   ],
   "source": [
    "\n",
    "model_lr = make_pipeline(transformer,PolynomialFeatures(),LinearRegression())\n",
    "model_lr.fit(X_train,y_train)\n"
   ]
  },
  {
   "cell_type": "code",
   "execution_count": 259,
   "metadata": {},
   "outputs": [
    {
     "data": {
      "text/plain": [
       "-3.188096301668275e+20"
      ]
     },
     "execution_count": 259,
     "metadata": {},
     "output_type": "execute_result"
    }
   ],
   "source": [
    "cross_val=cross_validate(model_lr, X_train, y_train, cv=5)\n",
    "cross_val['test_score'].mean()"
   ]
  },
  {
   "cell_type": "code",
   "execution_count": 260,
   "metadata": {},
   "outputs": [
    {
     "data": {
      "text/html": [
       "<div>\n",
       "<style scoped>\n",
       "    .dataframe tbody tr th:only-of-type {\n",
       "        vertical-align: middle;\n",
       "    }\n",
       "\n",
       "    .dataframe tbody tr th {\n",
       "        vertical-align: top;\n",
       "    }\n",
       "\n",
       "    .dataframe thead th {\n",
       "        text-align: right;\n",
       "    }\n",
       "</style>\n",
       "<table border=\"1\" class=\"dataframe\">\n",
       "  <thead>\n",
       "    <tr style=\"text-align: right;\">\n",
       "      <th></th>\n",
       "      <th>0</th>\n",
       "      <th>1</th>\n",
       "      <th>2</th>\n",
       "      <th>3</th>\n",
       "      <th>4</th>\n",
       "      <th>5</th>\n",
       "      <th>6</th>\n",
       "      <th>7</th>\n",
       "      <th>8</th>\n",
       "      <th>9</th>\n",
       "      <th>...</th>\n",
       "      <th>110</th>\n",
       "      <th>111</th>\n",
       "      <th>112</th>\n",
       "      <th>113</th>\n",
       "      <th>114</th>\n",
       "      <th>115</th>\n",
       "      <th>116</th>\n",
       "      <th>117</th>\n",
       "      <th>118</th>\n",
       "      <th>119</th>\n",
       "    </tr>\n",
       "  </thead>\n",
       "  <tbody>\n",
       "    <tr>\n",
       "      <th>0</th>\n",
       "      <td>1.0</td>\n",
       "      <td>0.0</td>\n",
       "      <td>1.0</td>\n",
       "      <td>1.0</td>\n",
       "      <td>0.0</td>\n",
       "      <td>0.0</td>\n",
       "      <td>1.0</td>\n",
       "      <td>0.0</td>\n",
       "      <td>0.0</td>\n",
       "      <td>0.0</td>\n",
       "      <td>...</td>\n",
       "      <td>0.0</td>\n",
       "      <td>0.0</td>\n",
       "      <td>-0.000000</td>\n",
       "      <td>0.000000</td>\n",
       "      <td>0.0</td>\n",
       "      <td>-0.0</td>\n",
       "      <td>0.0</td>\n",
       "      <td>0.087304</td>\n",
       "      <td>-0.228019</td>\n",
       "      <td>0.595536</td>\n",
       "    </tr>\n",
       "    <tr>\n",
       "      <th>1</th>\n",
       "      <td>1.0</td>\n",
       "      <td>1.0</td>\n",
       "      <td>0.0</td>\n",
       "      <td>0.0</td>\n",
       "      <td>1.0</td>\n",
       "      <td>1.0</td>\n",
       "      <td>0.0</td>\n",
       "      <td>0.0</td>\n",
       "      <td>0.0</td>\n",
       "      <td>0.0</td>\n",
       "      <td>...</td>\n",
       "      <td>1.0</td>\n",
       "      <td>0.0</td>\n",
       "      <td>0.555369</td>\n",
       "      <td>-0.060038</td>\n",
       "      <td>0.0</td>\n",
       "      <td>0.0</td>\n",
       "      <td>-0.0</td>\n",
       "      <td>0.308434</td>\n",
       "      <td>-0.033343</td>\n",
       "      <td>0.003605</td>\n",
       "    </tr>\n",
       "    <tr>\n",
       "      <th>2</th>\n",
       "      <td>1.0</td>\n",
       "      <td>0.0</td>\n",
       "      <td>1.0</td>\n",
       "      <td>1.0</td>\n",
       "      <td>0.0</td>\n",
       "      <td>1.0</td>\n",
       "      <td>0.0</td>\n",
       "      <td>0.0</td>\n",
       "      <td>0.0</td>\n",
       "      <td>0.0</td>\n",
       "      <td>...</td>\n",
       "      <td>0.0</td>\n",
       "      <td>0.0</td>\n",
       "      <td>-0.000000</td>\n",
       "      <td>-0.000000</td>\n",
       "      <td>0.0</td>\n",
       "      <td>-0.0</td>\n",
       "      <td>-0.0</td>\n",
       "      <td>0.871616</td>\n",
       "      <td>0.056052</td>\n",
       "      <td>0.003605</td>\n",
       "    </tr>\n",
       "    <tr>\n",
       "      <th>3</th>\n",
       "      <td>1.0</td>\n",
       "      <td>1.0</td>\n",
       "      <td>0.0</td>\n",
       "      <td>1.0</td>\n",
       "      <td>0.0</td>\n",
       "      <td>0.0</td>\n",
       "      <td>1.0</td>\n",
       "      <td>0.0</td>\n",
       "      <td>0.0</td>\n",
       "      <td>0.0</td>\n",
       "      <td>...</td>\n",
       "      <td>1.0</td>\n",
       "      <td>0.0</td>\n",
       "      <td>-1.146314</td>\n",
       "      <td>-0.891786</td>\n",
       "      <td>0.0</td>\n",
       "      <td>-0.0</td>\n",
       "      <td>-0.0</td>\n",
       "      <td>1.314036</td>\n",
       "      <td>1.022267</td>\n",
       "      <td>0.795283</td>\n",
       "    </tr>\n",
       "    <tr>\n",
       "      <th>4</th>\n",
       "      <td>1.0</td>\n",
       "      <td>1.0</td>\n",
       "      <td>0.0</td>\n",
       "      <td>0.0</td>\n",
       "      <td>1.0</td>\n",
       "      <td>0.0</td>\n",
       "      <td>0.0</td>\n",
       "      <td>0.0</td>\n",
       "      <td>1.0</td>\n",
       "      <td>1.0</td>\n",
       "      <td>...</td>\n",
       "      <td>0.0</td>\n",
       "      <td>0.0</td>\n",
       "      <td>-0.000000</td>\n",
       "      <td>-0.000000</td>\n",
       "      <td>0.0</td>\n",
       "      <td>-0.0</td>\n",
       "      <td>-0.0</td>\n",
       "      <td>2.044694</td>\n",
       "      <td>1.275190</td>\n",
       "      <td>0.795283</td>\n",
       "    </tr>\n",
       "    <tr>\n",
       "      <th>...</th>\n",
       "      <td>...</td>\n",
       "      <td>...</td>\n",
       "      <td>...</td>\n",
       "      <td>...</td>\n",
       "      <td>...</td>\n",
       "      <td>...</td>\n",
       "      <td>...</td>\n",
       "      <td>...</td>\n",
       "      <td>...</td>\n",
       "      <td>...</td>\n",
       "      <td>...</td>\n",
       "      <td>...</td>\n",
       "      <td>...</td>\n",
       "      <td>...</td>\n",
       "      <td>...</td>\n",
       "      <td>...</td>\n",
       "      <td>...</td>\n",
       "      <td>...</td>\n",
       "      <td>...</td>\n",
       "      <td>...</td>\n",
       "      <td>...</td>\n",
       "    </tr>\n",
       "    <tr>\n",
       "      <th>1131</th>\n",
       "      <td>1.0</td>\n",
       "      <td>0.0</td>\n",
       "      <td>1.0</td>\n",
       "      <td>1.0</td>\n",
       "      <td>0.0</td>\n",
       "      <td>0.0</td>\n",
       "      <td>0.0</td>\n",
       "      <td>1.0</td>\n",
       "      <td>0.0</td>\n",
       "      <td>0.0</td>\n",
       "      <td>...</td>\n",
       "      <td>0.0</td>\n",
       "      <td>0.0</td>\n",
       "      <td>0.000000</td>\n",
       "      <td>0.000000</td>\n",
       "      <td>0.0</td>\n",
       "      <td>0.0</td>\n",
       "      <td>0.0</td>\n",
       "      <td>0.117415</td>\n",
       "      <td>0.264433</td>\n",
       "      <td>0.595536</td>\n",
       "    </tr>\n",
       "    <tr>\n",
       "      <th>1132</th>\n",
       "      <td>1.0</td>\n",
       "      <td>1.0</td>\n",
       "      <td>0.0</td>\n",
       "      <td>1.0</td>\n",
       "      <td>0.0</td>\n",
       "      <td>0.0</td>\n",
       "      <td>0.0</td>\n",
       "      <td>1.0</td>\n",
       "      <td>0.0</td>\n",
       "      <td>0.0</td>\n",
       "      <td>...</td>\n",
       "      <td>0.0</td>\n",
       "      <td>0.0</td>\n",
       "      <td>-0.000000</td>\n",
       "      <td>-0.000000</td>\n",
       "      <td>0.0</td>\n",
       "      <td>-0.0</td>\n",
       "      <td>-0.0</td>\n",
       "      <td>0.422487</td>\n",
       "      <td>0.039024</td>\n",
       "      <td>0.003605</td>\n",
       "    </tr>\n",
       "    <tr>\n",
       "      <th>1133</th>\n",
       "      <td>1.0</td>\n",
       "      <td>0.0</td>\n",
       "      <td>1.0</td>\n",
       "      <td>1.0</td>\n",
       "      <td>0.0</td>\n",
       "      <td>0.0</td>\n",
       "      <td>0.0</td>\n",
       "      <td>1.0</td>\n",
       "      <td>0.0</td>\n",
       "      <td>0.0</td>\n",
       "      <td>...</td>\n",
       "      <td>0.0</td>\n",
       "      <td>0.0</td>\n",
       "      <td>0.000000</td>\n",
       "      <td>0.000000</td>\n",
       "      <td>0.0</td>\n",
       "      <td>0.0</td>\n",
       "      <td>0.0</td>\n",
       "      <td>1.977427</td>\n",
       "      <td>1.085187</td>\n",
       "      <td>0.595536</td>\n",
       "    </tr>\n",
       "    <tr>\n",
       "      <th>1134</th>\n",
       "      <td>1.0</td>\n",
       "      <td>0.0</td>\n",
       "      <td>1.0</td>\n",
       "      <td>1.0</td>\n",
       "      <td>0.0</td>\n",
       "      <td>1.0</td>\n",
       "      <td>0.0</td>\n",
       "      <td>0.0</td>\n",
       "      <td>0.0</td>\n",
       "      <td>0.0</td>\n",
       "      <td>...</td>\n",
       "      <td>1.0</td>\n",
       "      <td>0.0</td>\n",
       "      <td>0.271755</td>\n",
       "      <td>-0.891786</td>\n",
       "      <td>0.0</td>\n",
       "      <td>0.0</td>\n",
       "      <td>-0.0</td>\n",
       "      <td>0.073851</td>\n",
       "      <td>-0.242347</td>\n",
       "      <td>0.795283</td>\n",
       "    </tr>\n",
       "    <tr>\n",
       "      <th>1135</th>\n",
       "      <td>1.0</td>\n",
       "      <td>1.0</td>\n",
       "      <td>0.0</td>\n",
       "      <td>1.0</td>\n",
       "      <td>0.0</td>\n",
       "      <td>0.0</td>\n",
       "      <td>0.0</td>\n",
       "      <td>0.0</td>\n",
       "      <td>1.0</td>\n",
       "      <td>0.0</td>\n",
       "      <td>...</td>\n",
       "      <td>1.0</td>\n",
       "      <td>0.0</td>\n",
       "      <td>0.059045</td>\n",
       "      <td>-0.060038</td>\n",
       "      <td>0.0</td>\n",
       "      <td>0.0</td>\n",
       "      <td>-0.0</td>\n",
       "      <td>0.003486</td>\n",
       "      <td>-0.003545</td>\n",
       "      <td>0.003605</td>\n",
       "    </tr>\n",
       "  </tbody>\n",
       "</table>\n",
       "<p>1136 rows × 120 columns</p>\n",
       "</div>"
      ],
      "text/plain": [
       "      0    1    2    3    4    5    6    7    8    9    ...  110  111  \\\n",
       "0     1.0  0.0  1.0  1.0  0.0  0.0  1.0  0.0  0.0  0.0  ...  0.0  0.0   \n",
       "1     1.0  1.0  0.0  0.0  1.0  1.0  0.0  0.0  0.0  0.0  ...  1.0  0.0   \n",
       "2     1.0  0.0  1.0  1.0  0.0  1.0  0.0  0.0  0.0  0.0  ...  0.0  0.0   \n",
       "3     1.0  1.0  0.0  1.0  0.0  0.0  1.0  0.0  0.0  0.0  ...  1.0  0.0   \n",
       "4     1.0  1.0  0.0  0.0  1.0  0.0  0.0  0.0  1.0  1.0  ...  0.0  0.0   \n",
       "...   ...  ...  ...  ...  ...  ...  ...  ...  ...  ...  ...  ...  ...   \n",
       "1131  1.0  0.0  1.0  1.0  0.0  0.0  0.0  1.0  0.0  0.0  ...  0.0  0.0   \n",
       "1132  1.0  1.0  0.0  1.0  0.0  0.0  0.0  1.0  0.0  0.0  ...  0.0  0.0   \n",
       "1133  1.0  0.0  1.0  1.0  0.0  0.0  0.0  1.0  0.0  0.0  ...  0.0  0.0   \n",
       "1134  1.0  0.0  1.0  1.0  0.0  1.0  0.0  0.0  0.0  0.0  ...  1.0  0.0   \n",
       "1135  1.0  1.0  0.0  1.0  0.0  0.0  0.0  0.0  1.0  0.0  ...  1.0  0.0   \n",
       "\n",
       "           112       113  114  115  116       117       118       119  \n",
       "0    -0.000000  0.000000  0.0 -0.0  0.0  0.087304 -0.228019  0.595536  \n",
       "1     0.555369 -0.060038  0.0  0.0 -0.0  0.308434 -0.033343  0.003605  \n",
       "2    -0.000000 -0.000000  0.0 -0.0 -0.0  0.871616  0.056052  0.003605  \n",
       "3    -1.146314 -0.891786  0.0 -0.0 -0.0  1.314036  1.022267  0.795283  \n",
       "4    -0.000000 -0.000000  0.0 -0.0 -0.0  2.044694  1.275190  0.795283  \n",
       "...        ...       ...  ...  ...  ...       ...       ...       ...  \n",
       "1131  0.000000  0.000000  0.0  0.0  0.0  0.117415  0.264433  0.595536  \n",
       "1132 -0.000000 -0.000000  0.0 -0.0 -0.0  0.422487  0.039024  0.003605  \n",
       "1133  0.000000  0.000000  0.0  0.0  0.0  1.977427  1.085187  0.595536  \n",
       "1134  0.271755 -0.891786  0.0  0.0 -0.0  0.073851 -0.242347  0.795283  \n",
       "1135  0.059045 -0.060038  0.0  0.0 -0.0  0.003486 -0.003545  0.003605  \n",
       "\n",
       "[1136 rows x 120 columns]"
      ]
     },
     "execution_count": 260,
     "metadata": {},
     "output_type": "execute_result"
    }
   ],
   "source": [
    "a=make_pipeline(transformer,PolynomialFeatures()).fit_transform(X_train)\n",
    "a_columns= transformer.get_feature_names_out()\n",
    "adf= pd.DataFrame(a)#.set_index(y_train.index)\n",
    "# adf.columns = a_columns\n",
    "adf\n"
   ]
  },
  {
   "cell_type": "code",
   "execution_count": 261,
   "metadata": {},
   "outputs": [
    {
     "data": {
      "text/html": [
       "<div>\n",
       "<style scoped>\n",
       "    .dataframe tbody tr th:only-of-type {\n",
       "        vertical-align: middle;\n",
       "    }\n",
       "\n",
       "    .dataframe tbody tr th {\n",
       "        vertical-align: top;\n",
       "    }\n",
       "\n",
       "    .dataframe thead th {\n",
       "        text-align: right;\n",
       "    }\n",
       "</style>\n",
       "<table border=\"1\" class=\"dataframe\">\n",
       "  <thead>\n",
       "    <tr style=\"text-align: right;\">\n",
       "      <th></th>\n",
       "      <th>age</th>\n",
       "      <th>sex</th>\n",
       "      <th>children</th>\n",
       "      <th>smoker</th>\n",
       "      <th>region</th>\n",
       "      <th>grade</th>\n",
       "    </tr>\n",
       "  </thead>\n",
       "  <tbody>\n",
       "    <tr>\n",
       "      <th>0</th>\n",
       "      <td>19</td>\n",
       "      <td>female</td>\n",
       "      <td>0</td>\n",
       "      <td>yes</td>\n",
       "      <td>southwest</td>\n",
       "      <td>overweight</td>\n",
       "    </tr>\n",
       "    <tr>\n",
       "      <th>1</th>\n",
       "      <td>18</td>\n",
       "      <td>male</td>\n",
       "      <td>1</td>\n",
       "      <td>no</td>\n",
       "      <td>southeast</td>\n",
       "      <td>obesity</td>\n",
       "    </tr>\n",
       "    <tr>\n",
       "      <th>2</th>\n",
       "      <td>28</td>\n",
       "      <td>male</td>\n",
       "      <td>3</td>\n",
       "      <td>no</td>\n",
       "      <td>southeast</td>\n",
       "      <td>obesity</td>\n",
       "    </tr>\n",
       "    <tr>\n",
       "      <th>3</th>\n",
       "      <td>33</td>\n",
       "      <td>male</td>\n",
       "      <td>0</td>\n",
       "      <td>no</td>\n",
       "      <td>northwest</td>\n",
       "      <td>good</td>\n",
       "    </tr>\n",
       "    <tr>\n",
       "      <th>4</th>\n",
       "      <td>32</td>\n",
       "      <td>male</td>\n",
       "      <td>0</td>\n",
       "      <td>no</td>\n",
       "      <td>northwest</td>\n",
       "      <td>overweight</td>\n",
       "    </tr>\n",
       "    <tr>\n",
       "      <th>...</th>\n",
       "      <td>...</td>\n",
       "      <td>...</td>\n",
       "      <td>...</td>\n",
       "      <td>...</td>\n",
       "      <td>...</td>\n",
       "      <td>...</td>\n",
       "    </tr>\n",
       "    <tr>\n",
       "      <th>1333</th>\n",
       "      <td>50</td>\n",
       "      <td>male</td>\n",
       "      <td>3</td>\n",
       "      <td>no</td>\n",
       "      <td>northwest</td>\n",
       "      <td>obesity</td>\n",
       "    </tr>\n",
       "    <tr>\n",
       "      <th>1334</th>\n",
       "      <td>18</td>\n",
       "      <td>female</td>\n",
       "      <td>0</td>\n",
       "      <td>no</td>\n",
       "      <td>northeast</td>\n",
       "      <td>obesity</td>\n",
       "    </tr>\n",
       "    <tr>\n",
       "      <th>1335</th>\n",
       "      <td>18</td>\n",
       "      <td>female</td>\n",
       "      <td>0</td>\n",
       "      <td>no</td>\n",
       "      <td>southeast</td>\n",
       "      <td>obesity</td>\n",
       "    </tr>\n",
       "    <tr>\n",
       "      <th>1336</th>\n",
       "      <td>21</td>\n",
       "      <td>female</td>\n",
       "      <td>0</td>\n",
       "      <td>no</td>\n",
       "      <td>southwest</td>\n",
       "      <td>overweight</td>\n",
       "    </tr>\n",
       "    <tr>\n",
       "      <th>1337</th>\n",
       "      <td>61</td>\n",
       "      <td>female</td>\n",
       "      <td>0</td>\n",
       "      <td>yes</td>\n",
       "      <td>northwest</td>\n",
       "      <td>overweight</td>\n",
       "    </tr>\n",
       "  </tbody>\n",
       "</table>\n",
       "<p>1337 rows × 6 columns</p>\n",
       "</div>"
      ],
      "text/plain": [
       "      age     sex  children smoker     region       grade\n",
       "0      19  female         0    yes  southwest  overweight\n",
       "1      18    male         1     no  southeast     obesity\n",
       "2      28    male         3     no  southeast     obesity\n",
       "3      33    male         0     no  northwest        good\n",
       "4      32    male         0     no  northwest  overweight\n",
       "...   ...     ...       ...    ...        ...         ...\n",
       "1333   50    male         3     no  northwest     obesity\n",
       "1334   18  female         0     no  northeast     obesity\n",
       "1335   18  female         0     no  southeast     obesity\n",
       "1336   21  female         0     no  southwest  overweight\n",
       "1337   61  female         0    yes  northwest  overweight\n",
       "\n",
       "[1337 rows x 6 columns]"
      ]
     },
     "execution_count": 261,
     "metadata": {},
     "output_type": "execute_result"
    }
   ],
   "source": [
    "X"
   ]
  },
  {
   "cell_type": "code",
   "execution_count": 262,
   "metadata": {},
   "outputs": [
    {
     "data": {
      "text/plain": [
       "93       5729.00530\n",
       "818     23401.30575\n",
       "141      3490.54910\n",
       "875      2690.11380\n",
       "362     13844.50600\n",
       "           ...     \n",
       "184      7731.42710\n",
       "307      4151.02870\n",
       "278     12928.79110\n",
       "501      6837.36870\n",
       "1177     6496.88600\n",
       "Name: charges, Length: 1136, dtype: float64"
      ]
     },
     "execution_count": 262,
     "metadata": {},
     "output_type": "execute_result"
    }
   ],
   "source": [
    "y_train"
   ]
  },
  {
   "attachments": {},
   "cell_type": "markdown",
   "metadata": {},
   "source": [
    "## Droite de regression linéaire"
   ]
  },
  {
   "cell_type": "code",
   "execution_count": 263,
   "metadata": {},
   "outputs": [
    {
     "data": {
      "image/png": "[encoded data removed]",
      "text/plain": [
       "<Figure size 1000x600 with 1 Axes>"
      ]
     },
     "metadata": {},
     "output_type": "display_data"
    }
   ],
   "source": [
    "model_lr.fit(X_train,y_train)\n",
    "y_pred = model_lr.predict(X_train)\n",
    "plt.subplots(figsize=(10, 6))\n",
    "plt.scatter(y_pred,y_train,marker=\"+\",s=50)\n",
    "plt.plot(np.arange(max(y_test.values)), np.arange(max(y_test.values)), '-', color='r')\n",
    "plt.show()\n"
   ]
  },
  {
   "attachments": {},
   "cell_type": "markdown",
   "metadata": {},
   "source": [
    "On remarque que la regression lineaire obtient un meilleur resultat qu'ElasticNet"
   ]
  },
  {
   "attachments": {},
   "cell_type": "markdown",
   "metadata": {},
   "source": [
    "## Essayons d'ameliorer notre modele en utilisant la distance de Cook"
   ]
  },
  {
   "attachments": {},
   "cell_type": "markdown",
   "metadata": {},
   "source": [
    "Notre ElasticNet ,en ayant supprimé ces valeurs atypiques influentes, s'ameliore!"
   ]
  },
  {
   "cell_type": "code",
   "execution_count": 264,
   "metadata": {},
   "outputs": [],
   "source": [
    "X_cook= transformer.transform(X_train)\n",
    "X_cook_columns= transformer.get_feature_names_out()\n",
    "newdf= pd.DataFrame(X_cook).set_index(y_train.index)\n",
    "newdf.columns = X_cook_columns\n",
    "\n",
    "X_cook=sm.add_constant(X_cook)\n",
    "model_c = OLS(y_train , X_cook).fit()\n",
    "influence = model_c.get_influence().cooks_distance[0]\n",
    "cooks_distance = influence\n",
    "\n",
    "analyse=X_train.copy()\n",
    "analyse['dcooks'] = influence\n",
    "n= X_train.shape[0]\n",
    "p = X_train.shape[1]\n",
    "seuil_dcook = 4/n\n",
    "\n",
    "residual_indice=analyse[analyse['dcooks']>seuil_dcook].index\n",
    "residual_indice.size\n",
    "\n",
    "X_train.drop(residual_indice, inplace=True)\n",
    "y_train.drop(residual_indice, inplace=True)"
   ]
  },
  {
   "cell_type": "code",
   "execution_count": 265,
   "metadata": {},
   "outputs": [
    {
     "data": {
      "image/png": "[encoded data removed]",
      "text/plain": [
       "<Figure size 1000x600 with 1 Axes>"
      ]
     },
     "metadata": {},
     "output_type": "display_data"
    }
   ],
   "source": [
    "plt.figure(figsize=(10,6))\n",
    "plt.bar(analyse.index, analyse['dcooks'])\n",
    "# plt.xticks(np.arange(0, 200, step=1))\n",
    "# plt.xlabel('Observation')\n",
    "# plt.ylabel('Leviers')\n",
    "plt.plot([0, 1400], [seuil_dcook, seuil_dcook], color='r')\n",
    "plt.show()"
   ]
  },
  {
   "cell_type": "code",
   "execution_count": 266,
   "metadata": {},
   "outputs": [
    {
     "name": "stdout",
     "output_type": "stream",
     "text": [
      "{'fit_time': array([0.01889968, 0.01589894, 0.01682115, 0.01558542, 0.01553679]), 'score_time': array([0.00664258, 0.00676775, 0.00629497, 0.00558925, 0.00559282]), 'test_score': array([0.9339412 , 0.89904376, 0.91877559, 0.91280796, 0.95042699])}\n"
     ]
    },
    {
     "data": {
      "text/plain": [
       "0.9229990991839905"
      ]
     },
     "execution_count": 266,
     "metadata": {},
     "output_type": "execute_result"
    }
   ],
   "source": [
    "cross_val=cross_validate(model_lr, X_train, y_train,cv=5)\n",
    "print(cross_val)\n",
    "cross_val['test_score'].mean()"
   ]
  },
  {
   "cell_type": "code",
   "execution_count": 267,
   "metadata": {},
   "outputs": [
    {
     "name": "stdout",
     "output_type": "stream",
     "text": [
      "{'fit_time': array([0.01815629, 0.01713562, 0.01706624, 0.01666689, 0.01611543]), 'score_time': array([0.00610065, 0.00663877, 0.00618148, 0.0060153 , 0.00577021]), 'test_score': array([-2956.49486236, -3531.79922045, -2807.52908186, -3341.93306304,\n",
      "       -2972.82478894])}\n"
     ]
    },
    {
     "data": {
      "text/plain": [
       "-3122.1162033307146"
      ]
     },
     "execution_count": 267,
     "metadata": {},
     "output_type": "execute_result"
    }
   ],
   "source": [
    "cross_val=cross_validate(model_lr, X_train, y_train,scoring='neg_root_mean_squared_error' ,cv=5)\n",
    "print(cross_val)\n",
    "cross_val['test_score'].mean()"
   ]
  },
  {
   "cell_type": "code",
   "execution_count": 268,
   "metadata": {},
   "outputs": [
    {
     "data": {
      "text/plain": [
       "0.9248044749028553"
      ]
     },
     "execution_count": 268,
     "metadata": {},
     "output_type": "execute_result"
    }
   ],
   "source": [
    "grid.fit(X_train, y_train)\n",
    "best_model= grid.best_estimator_\n",
    "grid.best_score_"
   ]
  },
  {
   "cell_type": "code",
   "execution_count": 269,
   "metadata": {},
   "outputs": [
    {
     "data": {
      "text/plain": [
       "array(['1', 'onehotencoder__sex_female', 'onehotencoder__sex_male',\n",
       "       'onehotencoder__smoker_no', 'onehotencoder__smoker_yes',\n",
       "       'onehotencoder__region_northeast',\n",
       "       'onehotencoder__region_northwest',\n",
       "       'onehotencoder__region_southeast',\n",
       "       'onehotencoder__region_southwest', 'onehotencoder__grade_good',\n",
       "       'onehotencoder__grade_obesity', 'onehotencoder__grade_overweight',\n",
       "       'onehotencoder__grade_underweight', 'standardscaler__age',\n",
       "       'standardscaler__children', 'onehotencoder__sex_female^2',\n",
       "       'onehotencoder__sex_female onehotencoder__sex_male',\n",
       "       'onehotencoder__sex_female onehotencoder__smoker_no',\n",
       "       'onehotencoder__sex_female onehotencoder__smoker_yes',\n",
       "       'onehotencoder__sex_female onehotencoder__region_northeast',\n",
       "       'onehotencoder__sex_female onehotencoder__region_northwest',\n",
       "       'onehotencoder__sex_female onehotencoder__region_southeast',\n",
       "       'onehotencoder__sex_female onehotencoder__region_southwest',\n",
       "       'onehotencoder__sex_female onehotencoder__grade_good',\n",
       "       'onehotencoder__sex_female onehotencoder__grade_obesity',\n",
       "       'onehotencoder__sex_female onehotencoder__grade_overweight',\n",
       "       'onehotencoder__sex_female onehotencoder__grade_underweight',\n",
       "       'onehotencoder__sex_female standardscaler__age',\n",
       "       'onehotencoder__sex_female standardscaler__children',\n",
       "       'onehotencoder__sex_male^2',\n",
       "       'onehotencoder__sex_male onehotencoder__smoker_no',\n",
       "       'onehotencoder__sex_male onehotencoder__smoker_yes',\n",
       "       'onehotencoder__sex_male onehotencoder__region_northeast',\n",
       "       'onehotencoder__sex_male onehotencoder__region_northwest',\n",
       "       'onehotencoder__sex_male onehotencoder__region_southeast',\n",
       "       'onehotencoder__sex_male onehotencoder__region_southwest',\n",
       "       'onehotencoder__sex_male onehotencoder__grade_good',\n",
       "       'onehotencoder__sex_male onehotencoder__grade_obesity',\n",
       "       'onehotencoder__sex_male onehotencoder__grade_overweight',\n",
       "       'onehotencoder__sex_male onehotencoder__grade_underweight',\n",
       "       'onehotencoder__sex_male standardscaler__age',\n",
       "       'onehotencoder__sex_male standardscaler__children',\n",
       "       'onehotencoder__smoker_no^2',\n",
       "       'onehotencoder__smoker_no onehotencoder__smoker_yes',\n",
       "       'onehotencoder__smoker_no onehotencoder__region_northeast',\n",
       "       'onehotencoder__smoker_no onehotencoder__region_northwest',\n",
       "       'onehotencoder__smoker_no onehotencoder__region_southeast',\n",
       "       'onehotencoder__smoker_no onehotencoder__region_southwest',\n",
       "       'onehotencoder__smoker_no onehotencoder__grade_good',\n",
       "       'onehotencoder__smoker_no onehotencoder__grade_obesity',\n",
       "       'onehotencoder__smoker_no onehotencoder__grade_overweight',\n",
       "       'onehotencoder__smoker_no onehotencoder__grade_underweight',\n",
       "       'onehotencoder__smoker_no standardscaler__age',\n",
       "       'onehotencoder__smoker_no standardscaler__children',\n",
       "       'onehotencoder__smoker_yes^2',\n",
       "       'onehotencoder__smoker_yes onehotencoder__region_northeast',\n",
       "       'onehotencoder__smoker_yes onehotencoder__region_northwest',\n",
       "       'onehotencoder__smoker_yes onehotencoder__region_southeast',\n",
       "       'onehotencoder__smoker_yes onehotencoder__region_southwest',\n",
       "       'onehotencoder__smoker_yes onehotencoder__grade_good',\n",
       "       'onehotencoder__smoker_yes onehotencoder__grade_obesity',\n",
       "       'onehotencoder__smoker_yes onehotencoder__grade_overweight',\n",
       "       'onehotencoder__smoker_yes onehotencoder__grade_underweight',\n",
       "       'onehotencoder__smoker_yes standardscaler__age',\n",
       "       'onehotencoder__smoker_yes standardscaler__children',\n",
       "       'onehotencoder__region_northeast^2',\n",
       "       'onehotencoder__region_northeast onehotencoder__region_northwest',\n",
       "       'onehotencoder__region_northeast onehotencoder__region_southeast',\n",
       "       'onehotencoder__region_northeast onehotencoder__region_southwest',\n",
       "       'onehotencoder__region_northeast onehotencoder__grade_good',\n",
       "       'onehotencoder__region_northeast onehotencoder__grade_obesity',\n",
       "       'onehotencoder__region_northeast onehotencoder__grade_overweight',\n",
       "       'onehotencoder__region_northeast onehotencoder__grade_underweight',\n",
       "       'onehotencoder__region_northeast standardscaler__age',\n",
       "       'onehotencoder__region_northeast standardscaler__children',\n",
       "       'onehotencoder__region_northwest^2',\n",
       "       'onehotencoder__region_northwest onehotencoder__region_southeast',\n",
       "       'onehotencoder__region_northwest onehotencoder__region_southwest',\n",
       "       'onehotencoder__region_northwest onehotencoder__grade_good',\n",
       "       'onehotencoder__region_northwest onehotencoder__grade_obesity',\n",
       "       'onehotencoder__region_northwest onehotencoder__grade_overweight',\n",
       "       'onehotencoder__region_northwest onehotencoder__grade_underweight',\n",
       "       'onehotencoder__region_northwest standardscaler__age',\n",
       "       'onehotencoder__region_northwest standardscaler__children',\n",
       "       'onehotencoder__region_southeast^2',\n",
       "       'onehotencoder__region_southeast onehotencoder__region_southwest',\n",
       "       'onehotencoder__region_southeast onehotencoder__grade_good',\n",
       "       'onehotencoder__region_southeast onehotencoder__grade_obesity',\n",
       "       'onehotencoder__region_southeast onehotencoder__grade_overweight',\n",
       "       'onehotencoder__region_southeast onehotencoder__grade_underweight',\n",
       "       'onehotencoder__region_southeast standardscaler__age',\n",
       "       'onehotencoder__region_southeast standardscaler__children',\n",
       "       'onehotencoder__region_southwest^2',\n",
       "       'onehotencoder__region_southwest onehotencoder__grade_good',\n",
       "       'onehotencoder__region_southwest onehotencoder__grade_obesity',\n",
       "       'onehotencoder__region_southwest onehotencoder__grade_overweight',\n",
       "       'onehotencoder__region_southwest onehotencoder__grade_underweight',\n",
       "       'onehotencoder__region_southwest standardscaler__age',\n",
       "       'onehotencoder__region_southwest standardscaler__children',\n",
       "       'onehotencoder__grade_good^2',\n",
       "       'onehotencoder__grade_good onehotencoder__grade_obesity',\n",
       "       'onehotencoder__grade_good onehotencoder__grade_overweight',\n",
       "       'onehotencoder__grade_good onehotencoder__grade_underweight',\n",
       "       'onehotencoder__grade_good standardscaler__age',\n",
       "       'onehotencoder__grade_good standardscaler__children',\n",
       "       'onehotencoder__grade_obesity^2',\n",
       "       'onehotencoder__grade_obesity onehotencoder__grade_overweight',\n",
       "       'onehotencoder__grade_obesity onehotencoder__grade_underweight',\n",
       "       'onehotencoder__grade_obesity standardscaler__age',\n",
       "       'onehotencoder__grade_obesity standardscaler__children',\n",
       "       'onehotencoder__grade_overweight^2',\n",
       "       'onehotencoder__grade_overweight onehotencoder__grade_underweight',\n",
       "       'onehotencoder__grade_overweight standardscaler__age',\n",
       "       'onehotencoder__grade_overweight standardscaler__children',\n",
       "       'onehotencoder__grade_underweight^2',\n",
       "       'onehotencoder__grade_underweight standardscaler__age',\n",
       "       'onehotencoder__grade_underweight standardscaler__children',\n",
       "       'standardscaler__age^2',\n",
       "       'standardscaler__age standardscaler__children',\n",
       "       'standardscaler__children^2'], dtype=object)"
      ]
     },
     "execution_count": 269,
     "metadata": {},
     "output_type": "execute_result"
    }
   ],
   "source": [
    "best_model[:-1].get_feature_names_out()"
   ]
  },
  {
   "cell_type": "code",
   "execution_count": 270,
   "metadata": {},
   "outputs": [
    {
     "data": {
      "text/plain": [
       "array([ 0.00000000e+00,  0.00000000e+00, -0.00000000e+00, -1.19831404e+04,\n",
       "        0.00000000e+00,  0.00000000e+00, -0.00000000e+00,  0.00000000e+00,\n",
       "       -0.00000000e+00, -0.00000000e+00,  4.85880607e+02,  0.00000000e+00,\n",
       "       -0.00000000e+00,  3.68041581e+03,  4.75283033e+02,  0.00000000e+00,\n",
       "        0.00000000e+00, -0.00000000e+00,  0.00000000e+00,  0.00000000e+00,\n",
       "       -0.00000000e+00,  0.00000000e+00, -0.00000000e+00, -0.00000000e+00,\n",
       "        0.00000000e+00, -0.00000000e+00, -0.00000000e+00,  0.00000000e+00,\n",
       "       -0.00000000e+00, -0.00000000e+00, -8.26643782e+00,  0.00000000e+00,\n",
       "        0.00000000e+00,  0.00000000e+00, -0.00000000e+00, -0.00000000e+00,\n",
       "       -0.00000000e+00,  0.00000000e+00,  0.00000000e+00, -0.00000000e+00,\n",
       "        0.00000000e+00,  9.04676939e+00, -4.17104752e+02,  0.00000000e+00,\n",
       "        0.00000000e+00, -0.00000000e+00, -0.00000000e+00, -3.60950881e+02,\n",
       "       -0.00000000e+00, -0.00000000e+00, -0.00000000e+00, -0.00000000e+00,\n",
       "        3.39100769e-01,  1.57261384e+02,  1.66245542e+03,  0.00000000e+00,\n",
       "        0.00000000e+00,  0.00000000e+00,  0.00000000e+00, -0.00000000e+00,\n",
       "        1.76919520e+04,  0.00000000e+00,  0.00000000e+00,  0.00000000e+00,\n",
       "       -0.00000000e+00,  0.00000000e+00,  0.00000000e+00,  0.00000000e+00,\n",
       "        0.00000000e+00, -0.00000000e+00,  2.85312843e+02,  0.00000000e+00,\n",
       "       -0.00000000e+00,  0.00000000e+00,  0.00000000e+00, -0.00000000e+00,\n",
       "        0.00000000e+00,  0.00000000e+00, -0.00000000e+00,  0.00000000e+00,\n",
       "       -0.00000000e+00, -0.00000000e+00, -0.00000000e+00,  0.00000000e+00,\n",
       "        0.00000000e+00,  0.00000000e+00, -0.00000000e+00,  0.00000000e+00,\n",
       "       -0.00000000e+00,  0.00000000e+00,  0.00000000e+00, -0.00000000e+00,\n",
       "       -0.00000000e+00, -0.00000000e+00, -0.00000000e+00,  0.00000000e+00,\n",
       "       -0.00000000e+00,  0.00000000e+00,  0.00000000e+00, -7.31414185e+01,\n",
       "        0.00000000e+00,  0.00000000e+00,  0.00000000e+00, -0.00000000e+00,\n",
       "       -0.00000000e+00,  0.00000000e+00,  0.00000000e+00,  0.00000000e+00,\n",
       "        0.00000000e+00,  0.00000000e+00,  0.00000000e+00,  0.00000000e+00,\n",
       "        0.00000000e+00,  0.00000000e+00, -0.00000000e+00,  0.00000000e+00,\n",
       "        0.00000000e+00,  5.19255974e+02,  0.00000000e+00,  0.00000000e+00])"
      ]
     },
     "execution_count": 270,
     "metadata": {},
     "output_type": "execute_result"
    }
   ],
   "source": [
    "coef=best_model[-1].coef_\n",
    "coef"
   ]
  },
  {
   "cell_type": "code",
   "execution_count": 271,
   "metadata": {},
   "outputs": [
    {
     "data": {
      "text/html": [
       "<div>\n",
       "<style scoped>\n",
       "    .dataframe tbody tr th:only-of-type {\n",
       "        vertical-align: middle;\n",
       "    }\n",
       "\n",
       "    .dataframe tbody tr th {\n",
       "        vertical-align: top;\n",
       "    }\n",
       "\n",
       "    .dataframe thead th {\n",
       "        text-align: right;\n",
       "    }\n",
       "</style>\n",
       "<table border=\"1\" class=\"dataframe\">\n",
       "  <thead>\n",
       "    <tr style=\"text-align: right;\">\n",
       "      <th></th>\n",
       "      <th>coef</th>\n",
       "    </tr>\n",
       "  </thead>\n",
       "  <tbody>\n",
       "    <tr>\n",
       "      <th>1</th>\n",
       "      <td>0.000000</td>\n",
       "    </tr>\n",
       "    <tr>\n",
       "      <th>onehotencoder__sex_female</th>\n",
       "      <td>0.000000</td>\n",
       "    </tr>\n",
       "    <tr>\n",
       "      <th>onehotencoder__sex_male</th>\n",
       "      <td>-0.000000</td>\n",
       "    </tr>\n",
       "    <tr>\n",
       "      <th>onehotencoder__smoker_no</th>\n",
       "      <td>-11983.140376</td>\n",
       "    </tr>\n",
       "    <tr>\n",
       "      <th>onehotencoder__smoker_yes</th>\n",
       "      <td>0.000000</td>\n",
       "    </tr>\n",
       "    <tr>\n",
       "      <th>...</th>\n",
       "      <td>...</td>\n",
       "    </tr>\n",
       "    <tr>\n",
       "      <th>onehotencoder__grade_underweight standardscaler__age</th>\n",
       "      <td>0.000000</td>\n",
       "    </tr>\n",
       "    <tr>\n",
       "      <th>onehotencoder__grade_underweight standardscaler__children</th>\n",
       "      <td>0.000000</td>\n",
       "    </tr>\n",
       "    <tr>\n",
       "      <th>standardscaler__age^2</th>\n",
       "      <td>519.255974</td>\n",
       "    </tr>\n",
       "    <tr>\n",
       "      <th>standardscaler__age standardscaler__children</th>\n",
       "      <td>0.000000</td>\n",
       "    </tr>\n",
       "    <tr>\n",
       "      <th>standardscaler__children^2</th>\n",
       "      <td>0.000000</td>\n",
       "    </tr>\n",
       "  </tbody>\n",
       "</table>\n",
       "<p>120 rows × 1 columns</p>\n",
       "</div>"
      ],
      "text/plain": [
       "                                                            coef\n",
       "1                                                       0.000000\n",
       "onehotencoder__sex_female                               0.000000\n",
       "onehotencoder__sex_male                                -0.000000\n",
       "onehotencoder__smoker_no                           -11983.140376\n",
       "onehotencoder__smoker_yes                               0.000000\n",
       "...                                                          ...\n",
       "onehotencoder__grade_underweight standardscaler...      0.000000\n",
       "onehotencoder__grade_underweight standardscaler...      0.000000\n",
       "standardscaler__age^2                                 519.255974\n",
       "standardscaler__age standardscaler__children            0.000000\n",
       "standardscaler__children^2                              0.000000\n",
       "\n",
       "[120 rows x 1 columns]"
      ]
     },
     "execution_count": 271,
     "metadata": {},
     "output_type": "execute_result"
    }
   ],
   "source": [
    "coef_df= pd.DataFrame(coef, columns=['coef'] ,index=best_model[:-1].get_feature_names_out())\n",
    "coef_df"
   ]
  },
  {
   "cell_type": "code",
   "execution_count": 272,
   "metadata": {},
   "outputs": [
    {
     "data": {
      "text/plain": [
       "15"
      ]
     },
     "execution_count": 272,
     "metadata": {},
     "output_type": "execute_result"
    }
   ],
   "source": [
    "coef_df[coef_df['coef'] != 0].shape[0]"
   ]
  },
  {
   "cell_type": "code",
   "execution_count": 295,
   "metadata": {},
   "outputs": [
    {
     "data": {
      "text/html": [
       "<div>\n",
       "<style scoped>\n",
       "    .dataframe tbody tr th:only-of-type {\n",
       "        vertical-align: middle;\n",
       "    }\n",
       "\n",
       "    .dataframe tbody tr th {\n",
       "        vertical-align: top;\n",
       "    }\n",
       "\n",
       "    .dataframe thead th {\n",
       "        text-align: right;\n",
       "    }\n",
       "</style>\n",
       "<table border=\"1\" class=\"dataframe\">\n",
       "  <thead>\n",
       "    <tr style=\"text-align: right;\">\n",
       "      <th></th>\n",
       "      <th>coef</th>\n",
       "    </tr>\n",
       "  </thead>\n",
       "  <tbody>\n",
       "    <tr>\n",
       "      <th>onehotencoder__smoker_no</th>\n",
       "      <td>-11983.140376</td>\n",
       "    </tr>\n",
       "    <tr>\n",
       "      <th>onehotencoder__grade_obesity</th>\n",
       "      <td>485.880607</td>\n",
       "    </tr>\n",
       "    <tr>\n",
       "      <th>standardscaler__age</th>\n",
       "      <td>3680.415814</td>\n",
       "    </tr>\n",
       "    <tr>\n",
       "      <th>standardscaler__children</th>\n",
       "      <td>475.283033</td>\n",
       "    </tr>\n",
       "    <tr>\n",
       "      <th>onehotencoder__sex_male onehotencoder__smoker_no</th>\n",
       "      <td>-8.266438</td>\n",
       "    </tr>\n",
       "    <tr>\n",
       "      <th>onehotencoder__sex_male standardscaler__children</th>\n",
       "      <td>9.046769</td>\n",
       "    </tr>\n",
       "    <tr>\n",
       "      <th>onehotencoder__smoker_no^2</th>\n",
       "      <td>-417.104752</td>\n",
       "    </tr>\n",
       "    <tr>\n",
       "      <th>onehotencoder__smoker_no onehotencoder__region_southwest</th>\n",
       "      <td>-360.950881</td>\n",
       "    </tr>\n",
       "    <tr>\n",
       "      <th>onehotencoder__smoker_no standardscaler__age</th>\n",
       "      <td>0.339101</td>\n",
       "    </tr>\n",
       "    <tr>\n",
       "      <th>onehotencoder__smoker_no standardscaler__children</th>\n",
       "      <td>157.261384</td>\n",
       "    </tr>\n",
       "    <tr>\n",
       "      <th>onehotencoder__smoker_yes^2</th>\n",
       "      <td>1662.455420</td>\n",
       "    </tr>\n",
       "    <tr>\n",
       "      <th>onehotencoder__smoker_yes onehotencoder__grade_obesity</th>\n",
       "      <td>17691.952044</td>\n",
       "    </tr>\n",
       "    <tr>\n",
       "      <th>onehotencoder__region_northeast onehotencoder__grade_obesity</th>\n",
       "      <td>285.312843</td>\n",
       "    </tr>\n",
       "    <tr>\n",
       "      <th>onehotencoder__grade_good^2</th>\n",
       "      <td>-73.141418</td>\n",
       "    </tr>\n",
       "    <tr>\n",
       "      <th>standardscaler__age^2</th>\n",
       "      <td>519.255974</td>\n",
       "    </tr>\n",
       "  </tbody>\n",
       "</table>\n",
       "</div>"
      ],
      "text/plain": [
       "                                                            coef\n",
       "onehotencoder__smoker_no                           -11983.140376\n",
       "onehotencoder__grade_obesity                          485.880607\n",
       "standardscaler__age                                  3680.415814\n",
       "standardscaler__children                              475.283033\n",
       "onehotencoder__sex_male onehotencoder__smoker_no       -8.266438\n",
       "onehotencoder__sex_male standardscaler__children        9.046769\n",
       "onehotencoder__smoker_no^2                           -417.104752\n",
       "onehotencoder__smoker_no onehotencoder__region_...   -360.950881\n",
       "onehotencoder__smoker_no standardscaler__age            0.339101\n",
       "onehotencoder__smoker_no standardscaler__children     157.261384\n",
       "onehotencoder__smoker_yes^2                          1662.455420\n",
       "onehotencoder__smoker_yes onehotencoder__grade_...  17691.952044\n",
       "onehotencoder__region_northeast onehotencoder__...    285.312843\n",
       "onehotencoder__grade_good^2                           -73.141418\n",
       "standardscaler__age^2                                 519.255974"
      ]
     },
     "execution_count": 295,
     "metadata": {},
     "output_type": "execute_result"
    }
   ],
   "source": [
    "coef_df[coef_df['coef'] != 0]\n"
   ]
  },
  {
   "cell_type": "code",
   "execution_count": 310,
   "metadata": {},
   "outputs": [
    {
     "name": "stdout",
     "output_type": "stream",
     "text": [
      "                             feature       VIF\n",
      "0          onehotencoder__sex_female       inf\n",
      "1            onehotencoder__sex_male       inf\n",
      "2           onehotencoder__smoker_no       inf\n",
      "3          onehotencoder__smoker_yes       inf\n",
      "4    onehotencoder__region_northeast       inf\n",
      "5    onehotencoder__region_northwest       inf\n",
      "6    onehotencoder__region_southeast       inf\n",
      "7    onehotencoder__region_southwest       inf\n",
      "8          onehotencoder__grade_good       inf\n",
      "9       onehotencoder__grade_obesity       inf\n",
      "10   onehotencoder__grade_overweight       inf\n",
      "11  onehotencoder__grade_underweight       inf\n",
      "12               standardscaler__age  1.015708\n",
      "13          standardscaler__children  1.007370\n"
     ]
    },
    {
     "name": "stderr",
     "output_type": "stream",
     "text": [
      "/home/apprenant/miniconda3/envs/data_env/lib/python3.9/site-packages/statsmodels/stats/outliers_influence.py:195: RuntimeWarning: divide by zero encountered in double_scalars\n",
      "  vif = 1. / (1. - r_squared_i)\n"
     ]
    }
   ],
   "source": [
    "# VIF dataframe\n",
    "vif_data = pd.DataFrame()\n",
    "vif_data[\"feature\"] = newdf.columns\n",
    "  \n",
    "# calculating VIF for each feature\n",
    "vif_data[\"VIF\"] = [vif(newdf, i) for i in range(len(newdf.columns))]\n",
    "\n",
    "print(vif_data)\n",
    "\n",
    "# newdf"
   ]
  },
  {
   "cell_type": "code",
   "execution_count": null,
   "metadata": {},
   "outputs": [],
   "source": []
  }
 ],
 "metadata": {
  "kernelspec": {
   "display_name": "data_env",
   "language": "python",
   "name": "python3"
  },
  "language_info": {
   "codemirror_mode": {
    "name": "ipython",
    "version": 3
   },
   "file_extension": ".py",
   "mimetype": "text/x-python",
   "name": "python",
   "nbconvert_exporter": "python",
   "pygments_lexer": "ipython3",
   "version": "3.9.12"
  },
  "orig_nbformat": 4,
  "vscode": {
   "interpreter": {
    "hash": "3799acf55387ab1cd042f3bff8d07198bbf41d8c0c79cfd69a1441b99a053533"
   }
  }
 },
 "nbformat": 4,
 "nbformat_minor": 2
}
